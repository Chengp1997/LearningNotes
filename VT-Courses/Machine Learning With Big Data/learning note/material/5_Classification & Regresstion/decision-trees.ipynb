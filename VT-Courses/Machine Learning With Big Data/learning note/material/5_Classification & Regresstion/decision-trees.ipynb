{
 "cells": [
  {
   "cell_type": "markdown",
   "metadata": {},
   "source": [
    "# Decision Trees\n",
    "\n",
    "## imports"
   ]
  },
  {
   "cell_type": "code",
   "execution_count": 3,
   "metadata": {},
   "outputs": [],
   "source": [
    "import sklearn\n",
    "import numpy as np\n",
    "import pandas as pd\n",
    "\n",
    "import graphviz\n",
    "import sklearn.tree\n",
    "from io import StringIO\n"
   ]
  },
  {
   "cell_type": "markdown",
   "metadata": {},
   "source": [
    "Execute the code below if you didn't put anaconda in your path on OSX\n",
    "```\n",
    "import os\n",
    "os.environ[\"PATH\"] = \"{}:{}\".format(os.path.expanduser(\"~/anaconda3/bin\"), os.environ[\"PATH\"])\n",
    "```\n",
    "\n",
    "Additionally you need to install `graphviz` and `python-graphviz` \n",
    "\n",
    "[Instructions for the command line](https://docs.anaconda.com/anaconda/user-guide/tasks/install-packages/)\n",
    "or install it under the Anaconda Navigator using the environments tab."
   ]
  },
  {
   "cell_type": "markdown",
   "metadata": {},
   "source": [
    "## Load Data"
   ]
  },
  {
   "cell_type": "code",
   "execution_count": 4,
   "metadata": {},
   "outputs": [],
   "source": [
    "col_names = \"rain,hot temp.,mild temp.,High Humidity,Strong winds,playTennis\"\n",
    "my_tennis_data = np.array([[0, 1, 0, 1, 0, 0],\n",
    "       [0, 1, 0, 1, 1, 0],\n",
    "       [1, 0, 1, 1, 0, 1],\n",
    "       [1, 0, 0, 0, 0, 1],\n",
    "       [1, 0, 0, 0, 1, 0],\n",
    "       [0, 0, 1, 1, 0, 1],\n",
    "       [0, 0, 0, 0, 0, 1],\n",
    "       [1, 0, 1, 0, 0, 1],\n",
    "       [0, 0, 1, 0, 1, 1],\n",
    "       [1, 0, 1, 1, 1, 0]])\n",
    "tennis_df = pd.DataFrame(data=my_tennis_data, columns=col_names.split(\",\"))"
   ]
  },
  {
   "cell_type": "code",
   "execution_count": 5,
   "metadata": {},
   "outputs": [
    {
     "data": {
      "text/html": [
       "<div>\n",
       "<style scoped>\n",
       "    .dataframe tbody tr th:only-of-type {\n",
       "        vertical-align: middle;\n",
       "    }\n",
       "\n",
       "    .dataframe tbody tr th {\n",
       "        vertical-align: top;\n",
       "    }\n",
       "\n",
       "    .dataframe thead th {\n",
       "        text-align: right;\n",
       "    }\n",
       "</style>\n",
       "<table border=\"1\" class=\"dataframe\">\n",
       "  <thead>\n",
       "    <tr style=\"text-align: right;\">\n",
       "      <th></th>\n",
       "      <th>rain</th>\n",
       "      <th>hot temp.</th>\n",
       "      <th>mild temp.</th>\n",
       "      <th>High Humidity</th>\n",
       "      <th>Strong winds</th>\n",
       "      <th>playTennis</th>\n",
       "    </tr>\n",
       "  </thead>\n",
       "  <tbody>\n",
       "    <tr>\n",
       "      <th>0</th>\n",
       "      <td>0</td>\n",
       "      <td>1</td>\n",
       "      <td>0</td>\n",
       "      <td>1</td>\n",
       "      <td>0</td>\n",
       "      <td>0</td>\n",
       "    </tr>\n",
       "    <tr>\n",
       "      <th>1</th>\n",
       "      <td>0</td>\n",
       "      <td>1</td>\n",
       "      <td>0</td>\n",
       "      <td>1</td>\n",
       "      <td>1</td>\n",
       "      <td>0</td>\n",
       "    </tr>\n",
       "    <tr>\n",
       "      <th>2</th>\n",
       "      <td>1</td>\n",
       "      <td>0</td>\n",
       "      <td>1</td>\n",
       "      <td>1</td>\n",
       "      <td>0</td>\n",
       "      <td>1</td>\n",
       "    </tr>\n",
       "    <tr>\n",
       "      <th>3</th>\n",
       "      <td>1</td>\n",
       "      <td>0</td>\n",
       "      <td>0</td>\n",
       "      <td>0</td>\n",
       "      <td>0</td>\n",
       "      <td>1</td>\n",
       "    </tr>\n",
       "    <tr>\n",
       "      <th>4</th>\n",
       "      <td>1</td>\n",
       "      <td>0</td>\n",
       "      <td>0</td>\n",
       "      <td>0</td>\n",
       "      <td>1</td>\n",
       "      <td>0</td>\n",
       "    </tr>\n",
       "    <tr>\n",
       "      <th>5</th>\n",
       "      <td>0</td>\n",
       "      <td>0</td>\n",
       "      <td>1</td>\n",
       "      <td>1</td>\n",
       "      <td>0</td>\n",
       "      <td>1</td>\n",
       "    </tr>\n",
       "    <tr>\n",
       "      <th>6</th>\n",
       "      <td>0</td>\n",
       "      <td>0</td>\n",
       "      <td>0</td>\n",
       "      <td>0</td>\n",
       "      <td>0</td>\n",
       "      <td>1</td>\n",
       "    </tr>\n",
       "    <tr>\n",
       "      <th>7</th>\n",
       "      <td>1</td>\n",
       "      <td>0</td>\n",
       "      <td>1</td>\n",
       "      <td>0</td>\n",
       "      <td>0</td>\n",
       "      <td>1</td>\n",
       "    </tr>\n",
       "    <tr>\n",
       "      <th>8</th>\n",
       "      <td>0</td>\n",
       "      <td>0</td>\n",
       "      <td>1</td>\n",
       "      <td>0</td>\n",
       "      <td>1</td>\n",
       "      <td>1</td>\n",
       "    </tr>\n",
       "    <tr>\n",
       "      <th>9</th>\n",
       "      <td>1</td>\n",
       "      <td>0</td>\n",
       "      <td>1</td>\n",
       "      <td>1</td>\n",
       "      <td>1</td>\n",
       "      <td>0</td>\n",
       "    </tr>\n",
       "  </tbody>\n",
       "</table>\n",
       "</div>"
      ],
      "text/plain": [
       "   rain  hot temp.  mild temp.  High Humidity  Strong winds  playTennis\n",
       "0     0          1           0              1             0           0\n",
       "1     0          1           0              1             1           0\n",
       "2     1          0           1              1             0           1\n",
       "3     1          0           0              0             0           1\n",
       "4     1          0           0              0             1           0\n",
       "5     0          0           1              1             0           1\n",
       "6     0          0           0              0             0           1\n",
       "7     1          0           1              0             0           1\n",
       "8     0          0           1              0             1           1\n",
       "9     1          0           1              1             1           0"
      ]
     },
     "execution_count": 5,
     "metadata": {},
     "output_type": "execute_result"
    }
   ],
   "source": [
    "tennis_df"
   ]
  },
  {
   "cell_type": "code",
   "execution_count": 6,
   "metadata": {},
   "outputs": [],
   "source": [
    "### select all rows except last column\n",
    "X = tennis_df.drop([\"playTennis\"], axis=1)\n",
    "### select last column\n",
    "y = tennis_df[\"playTennis\"]"
   ]
  },
  {
   "cell_type": "code",
   "execution_count": 7,
   "metadata": {},
   "outputs": [
    {
     "data": {
      "text/plain": [
       "(10, 5)"
      ]
     },
     "execution_count": 7,
     "metadata": {},
     "output_type": "execute_result"
    }
   ],
   "source": [
    "X.shape"
   ]
  },
  {
   "cell_type": "markdown",
   "metadata": {},
   "source": [
    "## DecisionTree Classifier"
   ]
  },
  {
   "cell_type": "code",
   "execution_count": 8,
   "metadata": {},
   "outputs": [],
   "source": [
    "### Initiate classifier\n",
    "infoGain_clf = sklearn.tree.DecisionTreeClassifier(criterion='entropy')\n",
    "\n",
    "### Fit classifier\n",
    "infoGain_clf_tree = infoGain_clf.fit(X, y)"
   ]
  },
  {
   "cell_type": "markdown",
   "metadata": {},
   "source": [
    "## Visualizing the Tree"
   ]
  },
  {
   "cell_type": "code",
   "execution_count": 9,
   "metadata": {
    "scrolled": false
   },
   "outputs": [
    {
     "data": {
      "image/svg+xml": [
       "<?xml version=\"1.0\" encoding=\"UTF-8\" standalone=\"no\"?>\n",
       "<!DOCTYPE svg PUBLIC \"-//W3C//DTD SVG 1.1//EN\"\n",
       " \"http://www.w3.org/Graphics/SVG/1.1/DTD/svg11.dtd\">\n",
       "<!-- Generated by graphviz version 2.49.1 (20210923.0004)\n",
       " -->\n",
       "<!-- Title: Tree Pages: 1 -->\n",
       "<svg width=\"388pt\" height=\"433pt\"\n",
       " viewBox=\"0.00 0.00 387.50 433.00\" xmlns=\"http://www.w3.org/2000/svg\" xmlns:xlink=\"http://www.w3.org/1999/xlink\">\n",
       "<g id=\"graph0\" class=\"graph\" transform=\"scale(1 1) rotate(0) translate(4 429)\">\n",
       "<title>Tree</title>\n",
       "<polygon fill=\"white\" stroke=\"transparent\" points=\"-4,4 -4,-429 383.5,-429 383.5,4 -4,4\"/>\n",
       "<!-- 0 -->\n",
       "<g id=\"node1\" class=\"node\">\n",
       "<title>0</title>\n",
       "<polygon fill=\"none\" stroke=\"black\" points=\"283,-425 159,-425 159,-342 283,-342 283,-425\"/>\n",
       "<text text-anchor=\"middle\" x=\"221\" y=\"-409.8\" font-family=\"Times,serif\" font-size=\"14.00\">hot temp. &lt;= 0.5</text>\n",
       "<text text-anchor=\"middle\" x=\"221\" y=\"-394.8\" font-family=\"Times,serif\" font-size=\"14.00\">entropy = 0.971</text>\n",
       "<text text-anchor=\"middle\" x=\"221\" y=\"-379.8\" font-family=\"Times,serif\" font-size=\"14.00\">samples = 10</text>\n",
       "<text text-anchor=\"middle\" x=\"221\" y=\"-364.8\" font-family=\"Times,serif\" font-size=\"14.00\">value = [4, 6]</text>\n",
       "<text text-anchor=\"middle\" x=\"221\" y=\"-349.8\" font-family=\"Times,serif\" font-size=\"14.00\">class = Play Tennis</text>\n",
       "</g>\n",
       "<!-- 1 -->\n",
       "<g id=\"node2\" class=\"node\">\n",
       "<title>1</title>\n",
       "<polygon fill=\"none\" stroke=\"black\" points=\"206.5,-306 75.5,-306 75.5,-223 206.5,-223 206.5,-306\"/>\n",
       "<text text-anchor=\"middle\" x=\"141\" y=\"-290.8\" font-family=\"Times,serif\" font-size=\"14.00\">Strong winds &lt;= 0.5</text>\n",
       "<text text-anchor=\"middle\" x=\"141\" y=\"-275.8\" font-family=\"Times,serif\" font-size=\"14.00\">entropy = 0.811</text>\n",
       "<text text-anchor=\"middle\" x=\"141\" y=\"-260.8\" font-family=\"Times,serif\" font-size=\"14.00\">samples = 8</text>\n",
       "<text text-anchor=\"middle\" x=\"141\" y=\"-245.8\" font-family=\"Times,serif\" font-size=\"14.00\">value = [2, 6]</text>\n",
       "<text text-anchor=\"middle\" x=\"141\" y=\"-230.8\" font-family=\"Times,serif\" font-size=\"14.00\">class = Play Tennis</text>\n",
       "</g>\n",
       "<!-- 0&#45;&gt;1 -->\n",
       "<g id=\"edge1\" class=\"edge\">\n",
       "<title>0&#45;&gt;1</title>\n",
       "<path fill=\"none\" stroke=\"black\" d=\"M193.24,-341.91C187.16,-333.01 180.66,-323.51 174.39,-314.33\"/>\n",
       "<polygon fill=\"black\" stroke=\"black\" points=\"177.24,-312.3 168.71,-306.02 171.46,-316.25 177.24,-312.3\"/>\n",
       "<text text-anchor=\"middle\" x=\"164.09\" y=\"-326.89\" font-family=\"Times,serif\" font-size=\"14.00\">True</text>\n",
       "</g>\n",
       "<!-- 6 -->\n",
       "<g id=\"node7\" class=\"node\">\n",
       "<title>6</title>\n",
       "<polygon fill=\"none\" stroke=\"black\" points=\"379.5,-298.5 224.5,-298.5 224.5,-230.5 379.5,-230.5 379.5,-298.5\"/>\n",
       "<text text-anchor=\"middle\" x=\"302\" y=\"-283.3\" font-family=\"Times,serif\" font-size=\"14.00\">entropy = 0.0</text>\n",
       "<text text-anchor=\"middle\" x=\"302\" y=\"-268.3\" font-family=\"Times,serif\" font-size=\"14.00\">samples = 2</text>\n",
       "<text text-anchor=\"middle\" x=\"302\" y=\"-253.3\" font-family=\"Times,serif\" font-size=\"14.00\">value = [2, 0]</text>\n",
       "<text text-anchor=\"middle\" x=\"302\" y=\"-238.3\" font-family=\"Times,serif\" font-size=\"14.00\">class = Dont play Tennis</text>\n",
       "</g>\n",
       "<!-- 0&#45;&gt;6 -->\n",
       "<g id=\"edge6\" class=\"edge\">\n",
       "<title>0&#45;&gt;6</title>\n",
       "<path fill=\"none\" stroke=\"black\" d=\"M249.1,-341.91C256.89,-330.65 265.36,-318.42 273.2,-307.11\"/>\n",
       "<polygon fill=\"black\" stroke=\"black\" points=\"276.22,-308.88 279.04,-298.67 270.47,-304.9 276.22,-308.88\"/>\n",
       "<text text-anchor=\"middle\" x=\"283.51\" y=\"-319.56\" font-family=\"Times,serif\" font-size=\"14.00\">False</text>\n",
       "</g>\n",
       "<!-- 2 -->\n",
       "<g id=\"node3\" class=\"node\">\n",
       "<title>2</title>\n",
       "<polygon fill=\"none\" stroke=\"black\" points=\"124,-179.5 0,-179.5 0,-111.5 124,-111.5 124,-179.5\"/>\n",
       "<text text-anchor=\"middle\" x=\"62\" y=\"-164.3\" font-family=\"Times,serif\" font-size=\"14.00\">entropy = 0.0</text>\n",
       "<text text-anchor=\"middle\" x=\"62\" y=\"-149.3\" font-family=\"Times,serif\" font-size=\"14.00\">samples = 5</text>\n",
       "<text text-anchor=\"middle\" x=\"62\" y=\"-134.3\" font-family=\"Times,serif\" font-size=\"14.00\">value = [0, 5]</text>\n",
       "<text text-anchor=\"middle\" x=\"62\" y=\"-119.3\" font-family=\"Times,serif\" font-size=\"14.00\">class = Play Tennis</text>\n",
       "</g>\n",
       "<!-- 1&#45;&gt;2 -->\n",
       "<g id=\"edge2\" class=\"edge\">\n",
       "<title>1&#45;&gt;2</title>\n",
       "<path fill=\"none\" stroke=\"black\" d=\"M113.59,-222.91C105.99,-211.65 97.73,-199.42 90.09,-188.11\"/>\n",
       "<polygon fill=\"black\" stroke=\"black\" points=\"92.89,-186 84.39,-179.67 87.09,-189.91 92.89,-186\"/>\n",
       "</g>\n",
       "<!-- 3 -->\n",
       "<g id=\"node4\" class=\"node\">\n",
       "<title>3</title>\n",
       "<polygon fill=\"none\" stroke=\"black\" points=\"297.5,-187 142.5,-187 142.5,-104 297.5,-104 297.5,-187\"/>\n",
       "<text text-anchor=\"middle\" x=\"220\" y=\"-171.8\" font-family=\"Times,serif\" font-size=\"14.00\">rain &lt;= 0.5</text>\n",
       "<text text-anchor=\"middle\" x=\"220\" y=\"-156.8\" font-family=\"Times,serif\" font-size=\"14.00\">entropy = 0.918</text>\n",
       "<text text-anchor=\"middle\" x=\"220\" y=\"-141.8\" font-family=\"Times,serif\" font-size=\"14.00\">samples = 3</text>\n",
       "<text text-anchor=\"middle\" x=\"220\" y=\"-126.8\" font-family=\"Times,serif\" font-size=\"14.00\">value = [2, 1]</text>\n",
       "<text text-anchor=\"middle\" x=\"220\" y=\"-111.8\" font-family=\"Times,serif\" font-size=\"14.00\">class = Dont play Tennis</text>\n",
       "</g>\n",
       "<!-- 1&#45;&gt;3 -->\n",
       "<g id=\"edge3\" class=\"edge\">\n",
       "<title>1&#45;&gt;3</title>\n",
       "<path fill=\"none\" stroke=\"black\" d=\"M168.41,-222.91C174.41,-214.01 180.83,-204.51 187.03,-195.33\"/>\n",
       "<polygon fill=\"black\" stroke=\"black\" points=\"189.94,-197.27 192.64,-187.02 184.14,-193.35 189.94,-197.27\"/>\n",
       "</g>\n",
       "<!-- 4 -->\n",
       "<g id=\"node5\" class=\"node\">\n",
       "<title>4</title>\n",
       "<polygon fill=\"none\" stroke=\"black\" points=\"203,-68 79,-68 79,0 203,0 203,-68\"/>\n",
       "<text text-anchor=\"middle\" x=\"141\" y=\"-52.8\" font-family=\"Times,serif\" font-size=\"14.00\">entropy = 0.0</text>\n",
       "<text text-anchor=\"middle\" x=\"141\" y=\"-37.8\" font-family=\"Times,serif\" font-size=\"14.00\">samples = 1</text>\n",
       "<text text-anchor=\"middle\" x=\"141\" y=\"-22.8\" font-family=\"Times,serif\" font-size=\"14.00\">value = [0, 1]</text>\n",
       "<text text-anchor=\"middle\" x=\"141\" y=\"-7.8\" font-family=\"Times,serif\" font-size=\"14.00\">class = Play Tennis</text>\n",
       "</g>\n",
       "<!-- 3&#45;&gt;4 -->\n",
       "<g id=\"edge4\" class=\"edge\">\n",
       "<title>3&#45;&gt;4</title>\n",
       "<path fill=\"none\" stroke=\"black\" d=\"M190.58,-103.73C184.2,-94.88 177.44,-85.51 171.03,-76.63\"/>\n",
       "<polygon fill=\"black\" stroke=\"black\" points=\"173.71,-74.36 165.02,-68.3 168.04,-78.46 173.71,-74.36\"/>\n",
       "</g>\n",
       "<!-- 5 -->\n",
       "<g id=\"node6\" class=\"node\">\n",
       "<title>5</title>\n",
       "<polygon fill=\"none\" stroke=\"black\" points=\"376.5,-68 221.5,-68 221.5,0 376.5,0 376.5,-68\"/>\n",
       "<text text-anchor=\"middle\" x=\"299\" y=\"-52.8\" font-family=\"Times,serif\" font-size=\"14.00\">entropy = 0.0</text>\n",
       "<text text-anchor=\"middle\" x=\"299\" y=\"-37.8\" font-family=\"Times,serif\" font-size=\"14.00\">samples = 2</text>\n",
       "<text text-anchor=\"middle\" x=\"299\" y=\"-22.8\" font-family=\"Times,serif\" font-size=\"14.00\">value = [2, 0]</text>\n",
       "<text text-anchor=\"middle\" x=\"299\" y=\"-7.8\" font-family=\"Times,serif\" font-size=\"14.00\">class = Dont play Tennis</text>\n",
       "</g>\n",
       "<!-- 3&#45;&gt;5 -->\n",
       "<g id=\"edge5\" class=\"edge\">\n",
       "<title>3&#45;&gt;5</title>\n",
       "<path fill=\"none\" stroke=\"black\" d=\"M249.42,-103.73C255.8,-94.88 262.56,-85.51 268.97,-76.63\"/>\n",
       "<polygon fill=\"black\" stroke=\"black\" points=\"271.96,-78.46 274.98,-68.3 266.29,-74.36 271.96,-78.46\"/>\n",
       "</g>\n",
       "</g>\n",
       "</svg>\n"
      ],
      "text/plain": [
       "<graphviz.files.Source at 0x7fa107268730>"
      ]
     },
     "execution_count": 9,
     "metadata": {},
     "output_type": "execute_result"
    }
   ],
   "source": [
    "ss = StringIO()\n",
    "\n",
    "feature_names = X.columns\n",
    "label_name = [\"Dont play Tennis\", \"Play Tennis\"]\n",
    "\n",
    "sklearn.tree.export_graphviz(infoGain_clf_tree, feature_names=feature_names,\n",
    "                             class_names=label_name,\n",
    "                             label=\"all\", out_file=ss)\n",
    "\n",
    "graphviz.Source(ss.getvalue())"
   ]
  },
  {
   "cell_type": "code",
   "execution_count": 10,
   "metadata": {},
   "outputs": [
    {
     "name": "stdout",
     "output_type": "stream",
     "text": [
      "predicted: [1 0]\n",
      "truth [1 0]\n"
     ]
    }
   ],
   "source": [
    "print(\"predicted:\", infoGain_clf.predict(X[-2:]))\n",
    "print(\"truth\", y[-2:].values)"
   ]
  },
  {
   "cell_type": "code",
   "execution_count": 11,
   "metadata": {},
   "outputs": [
    {
     "data": {
      "text/html": [
       "<div>\n",
       "<style scoped>\n",
       "    .dataframe tbody tr th:only-of-type {\n",
       "        vertical-align: middle;\n",
       "    }\n",
       "\n",
       "    .dataframe tbody tr th {\n",
       "        vertical-align: top;\n",
       "    }\n",
       "\n",
       "    .dataframe thead th {\n",
       "        text-align: right;\n",
       "    }\n",
       "</style>\n",
       "<table border=\"1\" class=\"dataframe\">\n",
       "  <thead>\n",
       "    <tr style=\"text-align: right;\">\n",
       "      <th></th>\n",
       "      <th>rain</th>\n",
       "      <th>hot temp.</th>\n",
       "      <th>mild temp.</th>\n",
       "      <th>High Humidity</th>\n",
       "      <th>Strong winds</th>\n",
       "    </tr>\n",
       "  </thead>\n",
       "  <tbody>\n",
       "    <tr>\n",
       "      <th>8</th>\n",
       "      <td>0</td>\n",
       "      <td>0</td>\n",
       "      <td>1</td>\n",
       "      <td>0</td>\n",
       "      <td>1</td>\n",
       "    </tr>\n",
       "    <tr>\n",
       "      <th>9</th>\n",
       "      <td>1</td>\n",
       "      <td>0</td>\n",
       "      <td>1</td>\n",
       "      <td>1</td>\n",
       "      <td>1</td>\n",
       "    </tr>\n",
       "  </tbody>\n",
       "</table>\n",
       "</div>"
      ],
      "text/plain": [
       "   rain  hot temp.  mild temp.  High Humidity  Strong winds\n",
       "8     0          0           1              0             1\n",
       "9     1          0           1              1             1"
      ]
     },
     "execution_count": 11,
     "metadata": {},
     "output_type": "execute_result"
    }
   ],
   "source": [
    "X[-2:]"
   ]
  }
 ],
 "metadata": {
  "kernelspec": {
   "display_name": "Python 3",
   "language": "python",
   "name": "python3"
  },
  "language_info": {
   "codemirror_mode": {
    "name": "ipython",
    "version": 3
   },
   "file_extension": ".py",
   "mimetype": "text/x-python",
   "name": "python",
   "nbconvert_exporter": "python",
   "pygments_lexer": "ipython3",
   "version": "3.8.8"
  }
 },
 "nbformat": 4,
 "nbformat_minor": 1
}

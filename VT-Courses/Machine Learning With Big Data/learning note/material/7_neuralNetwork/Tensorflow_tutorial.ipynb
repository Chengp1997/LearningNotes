{
 "cells": [
  {
   "cell_type": "code",
   "execution_count": 1,
   "metadata": {
    "id": "jYbSYp_ToMRF"
   },
   "outputs": [],
   "source": [
    "import tensorflow as tf\n",
    "from tensorflow.keras import layers, models\n",
    "import tensorflow_datasets as tfds\n",
    "import pandas as pd\n",
    "from matplotlib import pyplot as plt"
   ]
  },
  {
   "cell_type": "code",
   "execution_count": 2,
   "metadata": {
    "colab": {
     "base_uri": "https://localhost:8080/",
     "height": 35
    },
    "id": "qOX9tbK4oOz7",
    "outputId": "9ade7e1e-4be6-4409-d87e-b960fd0fe70d"
   },
   "outputs": [
    {
     "data": {
      "text/plain": [
       "'2.0.0'"
      ]
     },
     "execution_count": 2,
     "metadata": {},
     "output_type": "execute_result"
    }
   ],
   "source": [
    "tf.__version__"
   ]
  },
  {
   "cell_type": "code",
   "execution_count": 3,
   "metadata": {
    "colab": {
     "base_uri": "https://localhost:8080/",
     "height": 54
    },
    "id": "VVNvZgTHoS6w",
    "outputId": "a5fd2db4-633e-4b11-ea43-4cc827f46acc"
   },
   "outputs": [
    {
     "name": "stdout",
     "output_type": "stream",
     "text": [
      "Num GPUs Available:  [PhysicalDevice(name='/physical_device:CPU:0', device_type='CPU')]\n"
     ]
    }
   ],
   "source": [
    "print(\"Num GPUs Available: \", tf.config.experimental.list_physical_devices())\n",
    "#tf.debugging.set_log_device_placement(False)"
   ]
  },
  {
   "cell_type": "code",
   "execution_count": 4,
   "metadata": {
    "id": "strtV6Rboqak"
   },
   "outputs": [
    {
     "name": "stderr",
     "output_type": "stream",
     "text": [
      "WARNING:absl:Warning: Setting shuffle_files=True because split=TRAIN and shuffle_files=None. This behavior will be deprecated on 2019-08-06, at which point shuffle_files=False will be the default for all splits.\n"
     ]
    }
   ],
   "source": [
    "mnist_data, mnist_info = tfds.load(\"mnist\", as_supervised=True, with_info=True)\n",
    "mnist_train, mnist_test = mnist_data[\"train\"], mnist_data[\"test\"]\n",
    "\n",
    "assert isinstance(mnist_train, tf.data.Dataset)\n",
    "\n",
    "def normalize_data(features, labels):\n",
    "  return tf.cast(features, tf.float32) / 256., labels\n",
    "\n",
    "mnist_train = mnist_train.map(normalize_data).batch(128)\n",
    "mnist_test = mnist_test.map(normalize_data).batch(128)"
   ]
  },
  {
   "cell_type": "code",
   "execution_count": 5,
   "metadata": {
    "id": "90vyq2yrzUyQ"
   },
   "outputs": [],
   "source": [
    "val = next(tfds.as_numpy(mnist_train))"
   ]
  },
  {
   "cell_type": "code",
   "execution_count": 6,
   "metadata": {
    "colab": {
     "base_uri": "https://localhost:8080/",
     "height": 435
    },
    "id": "W-A5l_Unz0dD",
    "outputId": "ef88fa12-b089-4558-9637-d77eccc213a0"
   },
   "outputs": [
    {
     "name": "stdout",
     "output_type": "stream",
     "text": [
      "8\n",
      "(128, 28, 28, 1)\n"
     ]
    },
    {
     "data": {
      "image/png": "[encoded data removed]",
      "text/plain": [
       "<Figure size 432x288 with 1 Axes>"
      ]
     },
     "metadata": {
      "needs_background": "light"
     },
     "output_type": "display_data"
    },
    {
     "name": "stdout",
     "output_type": "stream",
     "text": [
      "[0.         0.         0.         0.         0.         0.\n",
      " 0.         0.         0.         0.15625    0.875      0.98046875\n",
      " 0.63671875 0.28125    0.91796875 0.96875    0.4140625  0.\n",
      " 0.         0.         0.         0.         0.         0.\n",
      " 0.         0.         0.         0.        ]\n"
     ]
    }
   ],
   "source": [
    "print(val[1][0])\n",
    "print(val[0].shape)\n",
    "plt.imshow(val[0][0, :, :, 0])\n",
    "plt.show()\n",
    "print(val[0][0, 14, : , 0])"
   ]
  },
  {
   "cell_type": "code",
   "execution_count": 7,
   "metadata": {
    "id": "ORrxM0uwUXi1"
   },
   "outputs": [],
   "source": [
    "def comp_and_train(model):\n",
    "    model.compile(\n",
    "      loss=tf.keras.losses.SparseCategoricalCrossentropy(from_logits=True),\n",
    "      optimizer=tf.keras.optimizers.Adam(0.001),\n",
    "      metrics=['accuracy'],\n",
    "    )\n",
    "\n",
    "    hist = model.fit(\n",
    "      mnist_train,\n",
    "      epochs=6,\n",
    "      validation_data=mnist_test,\n",
    "    )\n",
    "    print(model.summary())"
   ]
  },
  {
   "cell_type": "code",
   "execution_count": 8,
   "metadata": {
    "colab": {
     "base_uri": "https://localhost:8080/",
     "height": 241
    },
    "id": "Oi__goPW1UTa",
    "outputId": "56ebab9d-3728-4846-b487-7540ca7e9f96"
   },
   "outputs": [
    {
     "name": "stdout",
     "output_type": "stream",
     "text": [
      "Epoch 1/6\n",
      "469/469 [==============================] - 74s 158ms/step - loss: 1.5772 - accuracy: 0.9017 - val_loss: 0.0000e+00 - val_accuracy: 0.0000e+00\n",
      "Epoch 2/6\n",
      "469/469 [==============================] - 79s 168ms/step - loss: 1.5163 - accuracy: 0.9524 - val_loss: 1.5136 - val_accuracy: 0.9544\n",
      "Epoch 3/6\n",
      "469/469 [==============================] - 78s 166ms/step - loss: 1.5010 - accuracy: 0.9653 - val_loss: 1.5027 - val_accuracy: 0.9633\n",
      "Epoch 4/6\n",
      "469/469 [==============================] - 88s 187ms/step - loss: 1.4922 - accuracy: 0.9738 - val_loss: 1.4957 - val_accuracy: 0.9688\n",
      "Epoch 5/6\n",
      "469/469 [==============================] - 115s 246ms/step - loss: 1.4862 - accuracy: 0.9789 - val_loss: 1.4951 - val_accuracy: 0.9690\n",
      "Epoch 6/6\n",
      "469/469 [==============================] - 79s 169ms/step - loss: 1.4823 - accuracy: 0.9822 - val_loss: 1.4911 - val_accuracy: 0.9721\n",
      "Model: \"sequential\"\n",
      "_________________________________________________________________\n",
      "Layer (type)                 Output Shape              Param #   \n",
      "=================================================================\n",
      "flatten (Flatten)            (None, 784)               0         \n",
      "_________________________________________________________________\n",
      "dense (Dense)                (None, 512)               401920    \n",
      "_________________________________________________________________\n",
      "dense_1 (Dense)              (None, 10)                5130      \n",
      "=================================================================\n",
      "Total params: 407,050\n",
      "Trainable params: 407,050\n",
      "Non-trainable params: 0\n",
      "_________________________________________________________________\n",
      "None\n"
     ]
    }
   ],
   "source": [
    "comp_and_train(models.Sequential([ \n",
    "  layers.Flatten(input_shape=(28, 28, 1)),\n",
    "  layers.Dense(512, activation=\"relu\"),\n",
    "  layers.Dense(10, activation=\"softmax\")\n",
    "]))"
   ]
  },
  {
   "cell_type": "code",
   "execution_count": 9,
   "metadata": {
    "id": "lPEmFaoOO4QM"
   },
   "outputs": [
    {
     "name": "stdout",
     "output_type": "stream",
     "text": [
      "Epoch 1/6\n",
      "469/469 [==============================] - 79s 169ms/step - loss: 1.5625 - accuracy: 0.9116 - val_loss: 0.0000e+00 - val_accuracy: 0.0000e+00\n",
      "Epoch 2/6\n",
      "469/469 [==============================] - 78s 167ms/step - loss: 1.4985 - accuracy: 0.9686 - val_loss: 1.4943 - val_accuracy: 0.9711\n",
      "Epoch 3/6\n",
      "469/469 [==============================] - 77s 164ms/step - loss: 1.4860 - accuracy: 0.9789 - val_loss: 1.4868 - val_accuracy: 0.9773\n",
      "Epoch 4/6\n",
      "469/469 [==============================] - 77s 165ms/step - loss: 1.4802 - accuracy: 0.9839 - val_loss: 1.4827 - val_accuracy: 0.9804\n",
      "Epoch 5/6\n",
      "469/469 [==============================] - 77s 165ms/step - loss: 1.4766 - accuracy: 0.9873 - val_loss: 1.4803 - val_accuracy: 0.9828\n",
      "Epoch 6/6\n",
      "469/469 [==============================] - 77s 165ms/step - loss: 1.4735 - accuracy: 0.9897 - val_loss: 1.4801 - val_accuracy: 0.9833\n",
      "Model: \"sequential_1\"\n",
      "_________________________________________________________________\n",
      "Layer (type)                 Output Shape              Param #   \n",
      "=================================================================\n",
      "conv2d (Conv2D)              multiple                  320       \n",
      "_________________________________________________________________\n",
      "max_pooling2d (MaxPooling2D) multiple                  0         \n",
      "_________________________________________________________________\n",
      "flatten_1 (Flatten)          multiple                  0         \n",
      "_________________________________________________________________\n",
      "dense_2 (Dense)              multiple                  692352    \n",
      "_________________________________________________________________\n",
      "dense_3 (Dense)              multiple                  1290      \n",
      "=================================================================\n",
      "Total params: 693,962\n",
      "Trainable params: 693,962\n",
      "Non-trainable params: 0\n",
      "_________________________________________________________________\n",
      "None\n"
     ]
    }
   ],
   "source": [
    "comp_and_train(models.Sequential([ \n",
    "  layers.Conv2D(32, kernel_size=(3, 3), activation=\"relu\"),\n",
    "  layers.MaxPooling2D(pool_size=(2, 2)),\n",
    "  layers.Flatten(),\n",
    "  layers.Dense(128, activation=\"relu\"),\n",
    "  layers.Dense(10, activation=\"softmax\")\n",
    "]))"
   ]
  }
 ],
 "metadata": {
  "accelerator": "GPU",
  "colab": {
   "collapsed_sections": [],
   "name": "Tensorflow tutorial",
   "provenance": []
  },
  "kernelspec": {
   "display_name": "Python 3",
   "language": "python",
   "name": "python3"
  },
  "language_info": {
   "codemirror_mode": {
    "name": "ipython",
    "version": 3
   },
   "file_extension": ".py",
   "mimetype": "text/x-python",
   "name": "python",
   "nbconvert_exporter": "python",
   "pygments_lexer": "ipython3",
   "version": "3.7.6"
  }
 },
 "nbformat": 4,
 "nbformat_minor": 1
}

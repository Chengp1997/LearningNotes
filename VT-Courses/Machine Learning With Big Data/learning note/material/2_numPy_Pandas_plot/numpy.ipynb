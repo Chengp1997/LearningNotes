{
 "cells": [
  {
   "cell_type": "markdown",
   "metadata": {},
   "source": [
    "# Numpy\n",
    "\n",
    "**Note:** From here on out I am not going to be posting links to documentation for each and every piece of code unless I think there is something outstanding or something that is not included in the internal pydocs that you can get evaluating the function/object/value using the \"?\".  I am going to assume that any function that you see you'll check out it's documentation to get fully acquainted with it."
   ]
  },
  {
   "cell_type": "code",
   "execution_count": 1,
   "metadata": {},
   "outputs": [],
   "source": [
    "import numpy as np\n",
    "from scipy import stats"
   ]
  },
  {
   "cell_type": "markdown",
   "metadata": {},
   "source": [
    "## Creating arrays\n",
    "\n",
    "Numpy arrays are a lot like a list, or list of lists, however they have a bunch of powerful features and a couple extra requirements.  For one, the data type must be all of the same type.  On the other hand, arrays can be much much faster to process and perform math on if done correctly since internally they are stored in contiguous pieces of memory."
   ]
  },
  {
   "cell_type": "code",
   "execution_count": 2,
   "metadata": {},
   "outputs": [
    {
     "data": {
      "text/plain": [
       "array([[1, 2],\n",
       "       [3, 4]])"
      ]
     },
     "execution_count": 2,
     "metadata": {},
     "output_type": "execute_result"
    }
   ],
   "source": [
    "np.array([[1, 2], [3, 4]])"
   ]
  },
  {
   "cell_type": "code",
   "execution_count": 13,
   "metadata": {},
   "outputs": [
    {
     "data": {
      "text/plain": [
       "array([ 0,  1,  2,  3,  4,  5,  6,  7,  8,  9, 10, 11, 12, 13, 14, 15])"
      ]
     },
     "execution_count": 13,
     "metadata": {},
     "output_type": "execute_result"
    }
   ],
   "source": [
    "a = np.array(range(16), dtype=int)  #remember range(n) creates an iterator from 0..n-1\n",
    "a"
   ]
  },
  {
   "cell_type": "code",
   "execution_count": 4,
   "metadata": {},
   "outputs": [
    {
     "data": {
      "text/plain": [
       "array([[1., 1.],\n",
       "       [1., 1.]])"
      ]
     },
     "execution_count": 4,
     "metadata": {},
     "output_type": "execute_result"
    }
   ],
   "source": [
    "np.ones((2,2))"
   ]
  },
  {
   "cell_type": "code",
   "execution_count": 5,
   "metadata": {},
   "outputs": [
    {
     "data": {
      "text/plain": [
       "array([[0., 0.],\n",
       "       [0., 0.]])"
      ]
     },
     "execution_count": 5,
     "metadata": {},
     "output_type": "execute_result"
    }
   ],
   "source": [
    "np.zeros((2, 2))"
   ]
  },
  {
   "cell_type": "code",
   "execution_count": 6,
   "metadata": {},
   "outputs": [
    {
     "data": {
      "text/plain": [
       "array([[1., 0., 0., 0.],\n",
       "       [0., 1., 0., 0.],\n",
       "       [0., 0., 1., 0.],\n",
       "       [0., 0., 0., 1.]])"
      ]
     },
     "execution_count": 6,
     "metadata": {},
     "output_type": "execute_result"
    }
   ],
   "source": [
    "np.eye(4)  # Identity matrix of 4x4"
   ]
  },
  {
   "cell_type": "code",
   "execution_count": 2,
   "metadata": {},
   "outputs": [
    {
     "data": {
      "text/plain": [
       "array([2, 8, 5, 4, 9, 6, 5, 3, 3, 5, 9, 6, 4, 3, 0, 4, 1, 5, 7, 5, 7, 6,\n",
       "       6, 0, 9, 4, 2, 7, 1, 6])"
      ]
     },
     "execution_count": 2,
     "metadata": {},
     "output_type": "execute_result"
    }
   ],
   "source": [
    "ints = np.random.randint(0, 10, 30)    # generate 30 random integers between [0, 10)\n",
    "ints"
   ]
  },
  {
   "cell_type": "code",
   "execution_count": 5,
   "metadata": {},
   "outputs": [],
   "source": [
    "np.random.normal?"
   ]
  },
  {
   "cell_type": "code",
   "execution_count": 49,
   "metadata": {},
   "outputs": [
    {
     "data": {
      "text/plain": [
       "array([-0.78861389, -1.65467964,  0.92868347, -0.6898438 , -0.53691372,\n",
       "        0.57141896,  0.89548532,  1.30527108,  1.57255966,  1.31249156,\n",
       "       -0.44565146,  0.77366304, -1.29741191,  0.70353754,  0.41418583,\n",
       "        0.42227107, -1.55318628, -0.14520119,  2.35831915,  0.77193308,\n",
       "        0.50328883,  0.15983298, -0.65246706, -0.01850371, -0.31776145,\n",
       "       -1.14796604,  0.6685199 ,  0.30669552, -2.06015986, -0.18829945])"
      ]
     },
     "execution_count": 49,
     "metadata": {},
     "output_type": "execute_result"
    }
   ],
   "source": [
    "normal = np.random.normal(0, 1, size=30)  # generate 30 random numbers from a normal distribution\n",
    "normal"
   ]
  },
  {
   "cell_type": "markdown",
   "metadata": {},
   "source": [
    "## Loading from CSV\n",
    "\n",
    "The first option is the name of the file. The `delimiter` option defines how each element is delimited.  And `skiprows` allows you skipp pesky header rows"
   ]
  },
  {
   "cell_type": "code",
   "execution_count": 11,
   "metadata": {},
   "outputs": [
    {
     "name": "stdout",
     "output_type": "stream",
     "text": [
      "id,ct,secs,cl\n",
      "1000025,5,2,2\n",
      "1002945,5,7,2\n",
      "1015425,3,2,2\n",
      "1016277,6,3,2\n",
      "1017023,4,2,2\n",
      "1017122,8,7,4\n",
      "10\n"
     ]
    }
   ],
   "source": [
    "print(open(\"data.csv\").read(100))"
   ]
  },
  {
   "cell_type": "code",
   "execution_count": 7,
   "metadata": {},
   "outputs": [],
   "source": [
    "data=np.loadtxt?"
   ]
  },
  {
   "cell_type": "code",
   "execution_count": 10,
   "metadata": {},
   "outputs": [
    {
     "data": {
      "text/plain": [
       "array([[1000025,       5,       2,       2],\n",
       "       [1002945,       5,       7,       2],\n",
       "       [1015425,       3,       2,       2],\n",
       "       ...,\n",
       "       [ 841769,       2,       2,       2],\n",
       "       [ 888820,       5,       7,       4],\n",
       "       [ 897471,       4,       3,       4]])"
      ]
     },
     "execution_count": 10,
     "metadata": {},
     "output_type": "execute_result"
    }
   ],
   "source": [
    "data=np.loadtxt(\"data.csv\", delimiter=\",\", skiprows=1, dtype=int)\n",
    "data"
   ]
  },
  {
   "cell_type": "markdown",
   "metadata": {},
   "source": [
    "## Accessing arrays"
   ]
  },
  {
   "cell_type": "code",
   "execution_count": 8,
   "metadata": {},
   "outputs": [
    {
     "data": {
      "text/plain": [
       "(645, 4)"
      ]
     },
     "execution_count": 8,
     "metadata": {},
     "output_type": "execute_result"
    }
   ],
   "source": [
    "data.shape   #tells us how big the array is"
   ]
  },
  {
   "cell_type": "code",
   "execution_count": 9,
   "metadata": {},
   "outputs": [
    {
     "data": {
      "text/plain": [
       "1000025"
      ]
     },
     "execution_count": 9,
     "metadata": {},
     "output_type": "execute_result"
    }
   ],
   "source": [
    "data[0,0]   # access the first element in the first row"
   ]
  },
  {
   "cell_type": "code",
   "execution_count": 10,
   "metadata": {},
   "outputs": [
    {
     "data": {
      "text/plain": [
       "array([ 1000025,  1002945,  1015425,  1016277,  1017023,  1017122,\n",
       "        1018099,  1018561,  1033078,  1035283,  1036172,  1041801,\n",
       "        1043999,  1044572,  1047630,  1048672,  1049815,  1050670,\n",
       "        1050718,  1054590,  1054593,  1056784,  1057013,  1059552,\n",
       "        1065726,  1066373,  1066979,  1067444,  1070935,  1071760,\n",
       "        1072179,  1074610,  1075123,  1079304,  1080185,  1081791,\n",
       "        1084584,  1091262,  1096800,  1099510,  1100524,  1102573,\n",
       "        1103608,  1103722,  1105257,  1105524,  1106095,  1106829,\n",
       "        1108370,  1108449,  1110102,  1110503,  1110524,  1111249,\n",
       "        1112209,  1113038,  1113483,  1113906,  1115282,  1115293,\n",
       "        1116116,  1116132,  1116192,  1116998,  1117152,  1118039,\n",
       "        1120559,  1121732,  1121919,  1123061,  1124651,  1125035,\n",
       "        1126417,  1131294,  1132347,  1133041,  1133136,  1136142,\n",
       "        1137156,  1143978,  1147044,  1147699,  1147748,  1148278,\n",
       "        1148873,  1152331,  1155546,  1156272,  1156948,  1157734,\n",
       "        1158247,  1160476,  1164066,  1165297,  1165790,  1165926,\n",
       "        1166630,  1166654,  1167439,  1167471,  1168359,  1168736,\n",
       "        1169049,  1170419,  1170420,  1171710,  1171795,  1171845,\n",
       "        1172152,  1173216,  1173235,  1173347,  1173509,  1173514,\n",
       "        1173681,  1174057,  1174131,  1174428,  1175937,  1176406,\n",
       "        1176881,  1177027,  1177399,  1177512,  1178580,  1179818,\n",
       "        1180194,  1180523,  1180831,  1181356,  1182404,  1182410,\n",
       "        1183240,  1183246,  1183516,  1183911,  1183983,  1184184,\n",
       "        1184241,  1184840,  1185609,  1185610,  1187457,  1187805,\n",
       "        1188472,  1189266,  1189286,  1190394,  1190485,  1192325,\n",
       "        1193091,  1193210,  1193683,  1196295,  1196915,  1197080,\n",
       "        1197270,  1197440,  1197510,  1197979,  1197993,  1198128,\n",
       "        1198641,  1199219,  1199731,  1199983,  1200772,  1200847,\n",
       "        1200892,  1200952,  1201834,  1201936,  1202125,  1202812,\n",
       "        1203096,  1204242,  1204898,  1205138,  1205579,  1206089,\n",
       "        1206695,  1206841,  1207986,  1208301,  1210963,  1211202,\n",
       "        1212232,  1212251,  1212422,  1213375,  1213383,  1214092,\n",
       "        1214556,  1214966,  1216694,  1216947,  1217051,  1217264,\n",
       "        1218105,  1218741,  1218860,  1219406,  1219525,  1219859,\n",
       "        1220330,  1221863,  1222047,  1222936,  1223282,  1223426,\n",
       "        1223793,  1223967,  1224329,  1225799,  1226012,  1226612,\n",
       "        1227210,  1227244,  1227481,  1228152,  1228311,  1230175,\n",
       "        1230688,  1231387,  1231706,  1232225,  1236043,  1241232,\n",
       "        1241559,  1241679,  1242364,  1243256,  1270479,  1276091,\n",
       "        1277018,   128059,  1285531,  1287775,   144888,   145447,\n",
       "         167528,   169356,   183913,   191250,   242970,   255644,\n",
       "         263538,   274137,   303213,   314428,   320675,   324427,\n",
       "         385103,   390840,   411453,   428903,   431495,   432809,\n",
       "         434518,   452264,   456282,   476903,   486283,   486662,\n",
       "         488173,   492268,   508234,   527363,   529329,   535331,\n",
       "         543558,   555977,   560680,   561477,   563649,   601265,\n",
       "         606140,   606722,   616240,    61634,   625201,    63375,\n",
       "         635844,   636130,   640744,   646904,   653777,   659642,\n",
       "         666090,   666942,   667204,   673637,   684955,   688033,\n",
       "         691628,   693702,   704097,   704168,   706426,   709287,\n",
       "         718641,   721482,   730881,   733639,   733823,   740492,\n",
       "         743348,   752904,   756136,   760001,   760239,    76389,\n",
       "         764974,   770066,   785208,   785615,   792744,   797327,\n",
       "         798429,   806423,   809912,   810104,   814265,   814911,\n",
       "         822829,   826923,   830690,   831268,   832226,   832567,\n",
       "         836433,   837082,   846832,   850831,   855524,   857774,\n",
       "         859164,   859350,   866325,   873549,   877291,   877943,\n",
       "         888169,   888523,   896404,   897172,    95719,   160296,\n",
       "         342245,   428598,   492561,   493452,   521441,   636437,\n",
       "         640712,   654244,   657753,   685977,   805448,   846423,\n",
       "        1002504,  1022257,  1026122,  1071084,  1080233,  1114570,\n",
       "        1116715,  1131411,  1151734,  1156017,  1158405,  1168278,\n",
       "        1176187,  1196263,  1196475,  1206314,  1211265,  1213784,\n",
       "        1223003,  1223306,  1223543,  1229929,  1231853,  1234554,\n",
       "        1236837,  1237674,  1238021,  1238464,  1238633,  1238915,\n",
       "        1238948,  1239232,  1239347,  1239967,  1240337,  1253505,\n",
       "        1255384,  1257200,  1257648,  1257815,  1257938,  1258549,\n",
       "        1258556,  1266154,  1272039,  1277629,  1293439,  1294562,\n",
       "        1295186,   527337,   558538,   566509,   608157,   677910,\n",
       "         734111,   780555,   827627,  1049837,  1058849,  1193544,\n",
       "        1201870,  1202253,  1227081,  1230994,  1238410,  1246562,\n",
       "        1257470,  1259008,  1266124,  1267898,  1268313,  1268804,\n",
       "        1280258,  1293966,  1296572,  1298416,  1299596,  1181685,\n",
       "        1211594,  1238777,  1257608,  1269574,  1277145,  1287282,\n",
       "        1296025,  1296263,  1296593,  1299161,  1301945,  1302428,\n",
       "        1318169,   474162,   787451,  1002025,  1070522,  1073960,\n",
       "        1076352,  1084139,  1119189,  1133991,  1142706,  1155967,\n",
       "        1170945,  1181567,  1204558,  1217952,  1224565,  1238186,\n",
       "        1253917,  1265899,  1268766,  1277268,  1286943,  1295508,\n",
       "        1297327,  1297522,  1298360,  1299924,  1299994,  1304595,\n",
       "        1306282,  1313325,  1320077,  1320304,  1330439,   333093,\n",
       "         369565,   412300,   672113,   749653,   769612,   807657,\n",
       "        8233704,   837480,   867392,   869828,  1043068,  1056171,\n",
       "        1061990,  1113061,  1135090,  1145420,  1158157,  1171578,\n",
       "        1174841,  1184586,  1186936,  1197527,  1222464,  1240603,\n",
       "        1241035,  1287971,  1289391,  1306339,  1313658,  1313982,\n",
       "        1321264,  1321321,  1321348,  1321931,  1321942,  1328331,\n",
       "        1328755,  1331405,  1331412,  1333104,  1334071,  1343068,\n",
       "        1343374,  1344121,   142932,   183936,   324382,   378275,\n",
       "         690557,   695091,   695219,   824249,   871549,   878358,\n",
       "        1107684,  1115762,  1217717,  1239420,  1254538,  1261751,\n",
       "        1268275,  1272166,  1294261,  1295529,  1298484,  1311875,\n",
       "        1315506,  1320141,  1325309,  1333063,  1333495,  1334659,\n",
       "        1336798,  1344449,  1350568,  1352663,   188336,   352431,\n",
       "         353098,   557583,   636375,   736150,   803531,  1016634,\n",
       "        1031608,  1041043,  1042252,  1057067,  1073836,  1083817,\n",
       "        1096352,  1140597,  1149548,  1174009,  1183596,  1190386,\n",
       "        1190546,  1213273,  1218982,  1225382,  1235807,  1253955,\n",
       "        1257366,  1260659,  1268952,  1275807,  1277792,  1285722,\n",
       "        1288608,  1290203,  1294413,  1303489,  1311033,  1311108,\n",
       "        1315807,  1318671,  1319609,  1323477,  1324572,  1324681,\n",
       "        1325159,  1326892,  1330361,  1333877,  1334015,  1334667,\n",
       "        1339781, 13454352,  1345452,  1345593,  1347749,  1347943,\n",
       "        1348851,  1350319,  1350423,  1352848,  1353092,  1354840,\n",
       "        1355260,  1365075,  1365328,  1368267,  1368273,  1368882,\n",
       "        1369821,  1371026,  1371920,   466906,   534555,   536708,\n",
       "         566346,   603148,   654546,   714039,   763235,   776715,\n",
       "         841769,   888820,   897471])"
      ]
     },
     "execution_count": 10,
     "metadata": {},
     "output_type": "execute_result"
    }
   ],
   "source": [
    "data[:,0]  # access the first column, all rows"
   ]
  },
  {
   "cell_type": "code",
   "execution_count": 11,
   "metadata": {},
   "outputs": [
    {
     "data": {
      "text/plain": [
       "array([1000025,       5,       2,       2])"
      ]
     },
     "execution_count": 11,
     "metadata": {},
     "output_type": "execute_result"
    }
   ],
   "source": [
    "data[0, :]   # access the first row, all columns"
   ]
  },
  {
   "cell_type": "code",
   "execution_count": 12,
   "metadata": {},
   "outputs": [
    {
     "data": {
      "text/plain": [
       "array([5, 7])"
      ]
     },
     "execution_count": 12,
     "metadata": {},
     "output_type": "execute_result"
    }
   ],
   "source": [
    "data[1, 1:-1]  # access the second row, starting from the second element to the next to last element"
   ]
  },
  {
   "cell_type": "markdown",
   "metadata": {},
   "source": [
    "### Changing shape\n",
    "\n",
    "Arrays can be quickly changed from one shape to another given that they have the same number of elements"
   ]
  },
  {
   "cell_type": "code",
   "execution_count": 15,
   "metadata": {},
   "outputs": [
    {
     "data": {
      "text/plain": [
       "array([[ 0,  1],\n",
       "       [ 2,  3],\n",
       "       [ 4,  5],\n",
       "       [ 6,  7],\n",
       "       [ 8,  9],\n",
       "       [10, 11],\n",
       "       [12, 13],\n",
       "       [14, 15]])"
      ]
     },
     "execution_count": 15,
     "metadata": {},
     "output_type": "execute_result"
    }
   ],
   "source": [
    "a.reshape((8, 2))   # and the matrix to two rows and 8 columns, 2x8=16"
   ]
  },
  {
   "cell_type": "code",
   "execution_count": null,
   "metadata": {},
   "outputs": [],
   "source": [
    "a\n"
   ]
  },
  {
   "cell_type": "code",
   "execution_count": 18,
   "metadata": {},
   "outputs": [
    {
     "data": {
      "text/plain": [
       "array([[ 0,  1,  2,  3],\n",
       "       [ 4,  5,  6,  7],\n",
       "       [ 8,  9, 10, 11],\n",
       "       [12, 13, 14, 15]])"
      ]
     },
     "execution_count": 18,
     "metadata": {},
     "output_type": "execute_result"
    }
   ],
   "source": [
    "a = a.reshape((-1,4))  # negative 1 means use as man rows/columns as needed to \n",
    "                        #make the defined dimensions correct 简单来说，就是根据行/列来自行定义\n",
    "a"
   ]
  },
  {
   "cell_type": "code",
   "execution_count": 21,
   "metadata": {},
   "outputs": [
    {
     "data": {
      "text/plain": [
       "array([ 0,  1,  2,  3,  4,  5,  6,  7,  8,  9, 10, 11, 12, 13, 14, 15])"
      ]
     },
     "execution_count": 21,
     "metadata": {},
     "output_type": "execute_result"
    }
   ],
   "source": [
    "a.reshape(-1)  # turn 2d array into 1d"
   ]
  },
  {
   "cell_type": "code",
   "execution_count": 22,
   "metadata": {},
   "outputs": [
    {
     "data": {
      "text/plain": [
       "array([[[ 0,  1],\n",
       "        [ 2,  3]],\n",
       "\n",
       "       [[ 4,  5],\n",
       "        [ 6,  7]],\n",
       "\n",
       "       [[ 8,  9],\n",
       "        [10, 11]],\n",
       "\n",
       "       [[12, 13],\n",
       "        [14, 15]]])"
      ]
     },
     "execution_count": 22,
     "metadata": {},
     "output_type": "execute_result"
    }
   ],
   "source": [
    "a.reshape(4,2,-1)"
   ]
  },
  {
   "cell_type": "code",
   "execution_count": 16,
   "metadata": {},
   "outputs": [
    {
     "data": {
      "text/plain": [
       "array([[[ 0,  1],\n",
       "        [ 2,  3]],\n",
       "\n",
       "       [[ 4,  5],\n",
       "        [ 6,  7]],\n",
       "\n",
       "       [[ 8,  9],\n",
       "        [10, 11]],\n",
       "\n",
       "       [[12, 13],\n",
       "        [14, 15]]])"
      ]
     },
     "execution_count": 16,
     "metadata": {},
     "output_type": "execute_result"
    }
   ],
   "source": [
    "a.reshape((4,2,2))  #turn an array 3d"
   ]
  },
  {
   "cell_type": "markdown",
   "metadata": {},
   "source": [
    "## Doing math with numpy"
   ]
  },
  {
   "cell_type": "code",
   "execution_count": 25,
   "metadata": {},
   "outputs": [
    {
     "data": {
      "text/plain": [
       "array([[ 0,  1,  2,  3],\n",
       "       [ 4,  5,  6,  7],\n",
       "       [ 8,  9, 10, 11],\n",
       "       [12, 13, 14, 15]])"
      ]
     },
     "execution_count": 25,
     "metadata": {},
     "output_type": "execute_result"
    }
   ],
   "source": [
    "a"
   ]
  },
  {
   "cell_type": "code",
   "execution_count": 28,
   "metadata": {},
   "outputs": [
    {
     "data": {
      "text/plain": [
       "array([[ 1,  2,  3,  4],\n",
       "       [ 5,  6,  7,  8],\n",
       "       [ 9, 10, 11, 12],\n",
       "       [13, 14, 15, 16]])"
      ]
     },
     "execution_count": 28,
     "metadata": {},
     "output_type": "execute_result"
    }
   ],
   "source": [
    "a+1"
   ]
  },
  {
   "cell_type": "code",
   "execution_count": 24,
   "metadata": {},
   "outputs": [
    {
     "data": {
      "text/plain": [
       "array([[0],\n",
       "       [1],\n",
       "       [2],\n",
       "       [3]])"
      ]
     },
     "execution_count": 24,
     "metadata": {},
     "output_type": "execute_result"
    }
   ],
   "source": [
    "b = np.array(range(4))\n",
    "bCol = b.reshape((-1,1))\n",
    "bCol"
   ]
  },
  {
   "cell_type": "code",
   "execution_count": 31,
   "metadata": {},
   "outputs": [
    {
     "data": {
      "text/plain": [
       "array([[0, 1, 2, 3]])"
      ]
     },
     "execution_count": 31,
     "metadata": {},
     "output_type": "execute_result"
    }
   ],
   "source": [
    "bRow = b.reshape((1, -1))\n",
    "bRow"
   ]
  },
  {
   "cell_type": "code",
   "execution_count": 29,
   "metadata": {},
   "outputs": [
    {
     "data": {
      "text/plain": [
       "array([[ 5,  6,  7,  8],\n",
       "       [ 9, 10, 11, 12],\n",
       "       [13, 14, 15, 16],\n",
       "       [17, 18, 19, 20]])"
      ]
     },
     "execution_count": 29,
     "metadata": {},
     "output_type": "execute_result"
    }
   ],
   "source": [
    "a + 5"
   ]
  },
  {
   "cell_type": "code",
   "execution_count": 34,
   "metadata": {},
   "outputs": [
    {
     "name": "stdout",
     "output_type": "stream",
     "text": [
      "[[ 0  1  2  3]\n",
      " [ 4  5  6  7]\n",
      " [ 8  9 10 11]\n",
      " [12 13 14 15]]\n",
      "[[0 1 2 3]]\n"
     ]
    },
    {
     "data": {
      "text/plain": [
       "array([[ 0,  2,  4,  6],\n",
       "       [ 4,  6,  8, 10],\n",
       "       [ 8, 10, 12, 14],\n",
       "       [12, 14, 16, 18]])"
      ]
     },
     "execution_count": 34,
     "metadata": {},
     "output_type": "execute_result"
    }
   ],
   "source": [
    "print(a)\n",
    "print(bRow)\n",
    "a + bRow"
   ]
  },
  {
   "cell_type": "code",
   "execution_count": 35,
   "metadata": {},
   "outputs": [
    {
     "name": "stdout",
     "output_type": "stream",
     "text": [
      "[[ 0  1  2  3]\n",
      " [ 4  5  6  7]\n",
      " [ 8  9 10 11]\n",
      " [12 13 14 15]]\n",
      "[[0]\n",
      " [1]\n",
      " [2]\n",
      " [3]]\n"
     ]
    },
    {
     "data": {
      "text/plain": [
       "array([[ 0,  1,  2,  3],\n",
       "       [ 5,  6,  7,  8],\n",
       "       [10, 11, 12, 13],\n",
       "       [15, 16, 17, 18]])"
      ]
     },
     "execution_count": 35,
     "metadata": {},
     "output_type": "execute_result"
    }
   ],
   "source": [
    "print(a)\n",
    "print(bCol)\n",
    "a + bCol"
   ]
  },
  {
   "cell_type": "code",
   "execution_count": 36,
   "metadata": {},
   "outputs": [
    {
     "data": {
      "text/plain": [
       "array([[ 0,  0,  0,  0],\n",
       "       [ 4,  5,  6,  7],\n",
       "       [16, 18, 20, 22],\n",
       "       [36, 39, 42, 45]])"
      ]
     },
     "execution_count": 36,
     "metadata": {},
     "output_type": "execute_result"
    }
   ],
   "source": [
    "a * bCol  # element-wise multiplication"
   ]
  },
  {
   "cell_type": "code",
   "execution_count": 37,
   "metadata": {},
   "outputs": [
    {
     "data": {
      "text/plain": [
       "array([[14],\n",
       "       [38],\n",
       "       [62],\n",
       "       [86]])"
      ]
     },
     "execution_count": 37,
     "metadata": {},
     "output_type": "execute_result"
    }
   ],
   "source": [
    "a @ bCol # dot-product multiplication"
   ]
  },
  {
   "cell_type": "code",
   "execution_count": 39,
   "metadata": {},
   "outputs": [
    {
     "data": {
      "text/plain": [
       "array([[ 0,  1,  4,  9],\n",
       "       [ 0,  5, 12, 21],\n",
       "       [ 0,  9, 20, 33],\n",
       "       [ 0, 13, 28, 45]])"
      ]
     },
     "execution_count": 39,
     "metadata": {},
     "output_type": "execute_result"
    }
   ],
   "source": [
    "a*b\n"
   ]
  },
  {
   "cell_type": "code",
   "execution_count": 41,
   "metadata": {},
   "outputs": [
    {
     "name": "stdout",
     "output_type": "stream",
     "text": [
      "[[ 0  1  2  3]\n",
      " [ 4  5  6  7]\n",
      " [ 8  9 10 11]\n",
      " [12 13 14 15]]\n",
      "[[False False False False]\n",
      " [False False  True  True]\n",
      " [ True  True  True  True]\n",
      " [ True  True  True  True]]\n"
     ]
    }
   ],
   "source": [
    "##Array Masks\n",
    "print(a)\n",
    "print(a>5)"
   ]
  },
  {
   "cell_type": "code",
   "execution_count": 42,
   "metadata": {},
   "outputs": [
    {
     "data": {
      "text/plain": [
       "array([ 6,  7,  8,  9, 10, 11, 12, 13, 14, 15])"
      ]
     },
     "execution_count": 42,
     "metadata": {},
     "output_type": "execute_result"
    }
   ],
   "source": [
    "mask = a>5\n",
    "a[mask] #会变成一维数组"
   ]
  },
  {
   "cell_type": "markdown",
   "metadata": {},
   "source": [
    "### Using booleans as selectors (array masks)\n",
    "\n",
    "Justl like we can do int/float math on whole arrays at once, we can also do boolean math on those same arrays.  The results of those arrays can then be used to mask or select individual elements in the array."
   ]
  },
  {
   "cell_type": "code",
   "execution_count": 44,
   "metadata": {},
   "outputs": [
    {
     "name": "stdout",
     "output_type": "stream",
     "text": [
      "[[1000025       5       2       2]\n",
      " [1002945       5       7       2]\n",
      " [1015425       3       2       2]\n",
      " ...\n",
      " [ 841769       2       2       2]\n",
      " [ 888820       5       7       4]\n",
      " [ 897471       4       3       4]]\n",
      "[ 2  7  2  3  2  7  2  2  2  1  2  2  2  7  6  2  2  4  2  5  6  2  2  2\n",
      "  2  1  2  2  1  2  8  2  2  2  6  1  2  6  6  3  8 10  8  2  4  2  2  4\n",
      "  2  2  3 10  8  4  3  5  6  2  3  2 10  5  2  3  2  8  4  2  2 10  2  6\n",
      "  3  2  2  2  2  3  1  2  2  8 10  5  5  2  3  2  2  2  2  2  2  2  2 10\n",
      "  5 10  2  2  6 10  3  2  8  2  2  5  2 10  2  2  4  4  2  2 10  8  9  2\n",
      "  4  2  5 10  2  2  8  2  3  2  2  2  2  1  2  2  4  2  2  2  6  3  8 10\n",
      "  1  6  4  2  2  3  2  2  3  6  5  2  2  1  2  2  8  6  2  1  2  2  2  8\n",
      "  3 10  2  8  2  6  1  2  2  5  4  1  5  6  5  2  6 10  2  2  2  4  2  2\n",
      "  2  5 10  2  2  2  6  7  1  1  5  4  2  7  3  5  2  2  6  2  2 10  1  3\n",
      "  3  2  4  3  1 10  3  6  3  5  3  2  8  6  6  3  2  1  2  2  2  2  5  2\n",
      "  2  2  2  2  5  3 10  5  6 10  3  3  2  3  2  3  2  2  2  2  2  3  2  2\n",
      "  4  2  2  8 10  3  4  6  2  2  2  2  2  6  4  2  5  4  4  2  9  2  3  4\n",
      "  2  2  4  2  3  2 10  2  1  7  5  6  5  6  5  2  2  2  2  2  2  6  5  2\n",
      "  2  2  4  3  2  4  2  2  2  2  2  2 10  2  3  1  5  3  2  2  7  7  2  3\n",
      "  3 10  8  3 10  6  4  2  2  2  8  5  2  1  3  2  2  2  2  1  3  4  2  4\n",
      "  2  2  2  3  2  3  3  2  3  2  2  2  2  2  2  2  6  2  2  2  2  2  2  2\n",
      "  2  2  2  1  8  2  3  3 10  2  2  5  2 10  2  2  2 10  2  4  2  2  2  3\n",
      "  6  2  2  2  4  2  2  3  2  2  2  6  1  2  2  6  3  2  5  6  2  2  2  2\n",
      "  2  2  6  4  4  2  1  2  1  2  2  2  2  2  2  4  1  2 10  5  2  1  1  6\n",
      "  3  3  3  1  6  4  1  1  2  2  2  2  2  2  2  2  7  2  2  2  2  2  2  1\n",
      "  3  3  1  2  4  3  3  3  4  2  2  2  1  4  2  1  2  2  2  2  2  2  2  2\n",
      "  2  2  2  2  4  1  4  2  2  2  2  2  1  2  2  2  2  2  2  2  5  2  2  6\n",
      "  6  8  3  2  2  4  2  2  2  2  2  5  4  2  3  2  6  2  6  2  4  4  3  2\n",
      "  4  2  2  2  2  1  2  1  2  4  5  5  2 10  2  3  5  2  1  2  2  1  2  2\n",
      "  3  2  2  1  3  7  2  2  2  2  2  5  2  2  7  2  2  2  2  2  2  2  2  2\n",
      " 10  2  3  2  2  2  2  2  2  8  3  2  2  2  2  2  2  2  2  6  5  5  2  2\n",
      "  2  2  2  2  2  2  5  4  2  2  2  2  2  2  2  2  2  3  2  7  3]\n"
     ]
    }
   ],
   "source": [
    "print(data)\n",
    "print (data[:,2])#第二列，所有行，所有数据"
   ]
  },
  {
   "cell_type": "code",
   "execution_count": 46,
   "metadata": {},
   "outputs": [
    {
     "name": "stdout",
     "output_type": "stream",
     "text": [
      "[ True False  True False  True]\n",
      "485\n"
     ]
    }
   ],
   "source": [
    "evens = (data[:, 2] % 2 == 0)  # n % 2 == 0 iff n is even\n",
    "print(evens[:5])      # just look at the first couple elements to see the data type\n",
    "print(np.sum(evens))  # when summing booleans True=1 False=0, so we count the # of trues here"
   ]
  },
  {
   "cell_type": "code",
   "execution_count": 49,
   "metadata": {},
   "outputs": [
    {
     "name": "stdout",
     "output_type": "stream",
     "text": [
      "(485, 4)\n"
     ]
    }
   ],
   "source": [
    "even_data = data[evens]\n",
    "print(even_data.shape)"
   ]
  },
  {
   "cell_type": "code",
   "execution_count": 27,
   "metadata": {},
   "outputs": [
    {
     "name": "stdout",
     "output_type": "stream",
     "text": [
      "(645, 4)\n",
      "(485, 4)\n"
     ]
    }
   ],
   "source": [
    "print(data.shape)       # original size was this\n",
    "print(even_data.shape)  # this matches the number of evens"
   ]
  },
  {
   "cell_type": "code",
   "execution_count": 28,
   "metadata": {},
   "outputs": [
    {
     "data": {
      "text/plain": [
       "array([[1000025,       5,       2,       2],\n",
       "       [1015425,       3,       2,       2],\n",
       "       [1017023,       4,       2,       2],\n",
       "       [1018099,       1,       2,       2],\n",
       "       [1018561,       2,       2,       2]])"
      ]
     },
     "execution_count": 28,
     "metadata": {},
     "output_type": "execute_result"
    }
   ],
   "source": [
    "even_data[:5]  # what does the data look like?"
   ]
  },
  {
   "cell_type": "markdown",
   "metadata": {},
   "source": [
    "### Statistics"
   ]
  },
  {
   "cell_type": "code",
   "execution_count": 29,
   "metadata": {},
   "outputs": [
    {
     "data": {
      "text/plain": [
       "(0, 15)"
      ]
     },
     "execution_count": 29,
     "metadata": {},
     "output_type": "execute_result"
    }
   ],
   "source": [
    "np.min(a), np.max(a)"
   ]
  },
  {
   "cell_type": "code",
   "execution_count": 30,
   "metadata": {},
   "outputs": [
    {
     "data": {
      "text/plain": [
       "7.5"
      ]
     },
     "execution_count": 30,
     "metadata": {},
     "output_type": "execute_result"
    }
   ],
   "source": [
    "a.mean()"
   ]
  },
  {
   "cell_type": "code",
   "execution_count": 31,
   "metadata": {},
   "outputs": [
    {
     "data": {
      "text/plain": [
       "4.6097722286464435"
      ]
     },
     "execution_count": 31,
     "metadata": {},
     "output_type": "execute_result"
    }
   ],
   "source": [
    "a.std()"
   ]
  },
  {
   "cell_type": "code",
   "execution_count": 54,
   "metadata": {},
   "outputs": [],
   "source": [
    "ints = np.random.randint(0, 10, 30)"
   ]
  },
  {
   "cell_type": "code",
   "execution_count": 52,
   "metadata": {},
   "outputs": [],
   "source": [
    "stats.mode?"
   ]
  },
  {
   "cell_type": "code",
   "execution_count": 55,
   "metadata": {},
   "outputs": [
    {
     "data": {
      "text/plain": [
       "array([8, 8, 0, 2, 2, 6, 4, 3, 0, 1, 0, 6, 1, 6, 5, 1, 2, 0, 2, 6, 3, 1,\n",
       "       7, 6, 3, 3, 7, 0, 1, 2])"
      ]
     },
     "execution_count": 55,
     "metadata": {},
     "output_type": "execute_result"
    }
   ],
   "source": [
    "ints"
   ]
  },
  {
   "cell_type": "code",
   "execution_count": 57,
   "metadata": {},
   "outputs": [],
   "source": [
    "stats.mode?"
   ]
  },
  {
   "cell_type": "code",
   "execution_count": 56,
   "metadata": {},
   "outputs": [
    {
     "name": "stdout",
     "output_type": "stream",
     "text": [
      "[0]\n",
      "[6]\n"
     ]
    }
   ],
   "source": [
    "print(stats.mode(ints).mode) #众数 该函数返回 mode 和 count 两个值\n",
    "print(stats.mode(ints).count)"
   ]
  },
  {
   "cell_type": "markdown",
   "metadata": {},
   "source": [
    "Most of the functions provided in numpy can either operate on an entire array or a certain axis.  To engage the latter behaviour we use the axis argument:"
   ]
  },
  {
   "cell_type": "code",
   "execution_count": 33,
   "metadata": {},
   "outputs": [
    {
     "data": {
      "text/plain": [
       "array([61634,     1,     1,     2])"
      ]
     },
     "execution_count": 33,
     "metadata": {},
     "output_type": "execute_result"
    }
   ],
   "source": [
    "data.min(axis=0) #取每一行的最小"
   ]
  },
  {
   "cell_type": "code",
   "execution_count": 58,
   "metadata": {},
   "outputs": [
    {
     "data": {
      "text/plain": [
       "array([ 1000025,  1002945,  1015425,  1016277,  1017023,  1017122,\n",
       "        1018099,  1018561,  1033078,  1035283,  1036172,  1041801,\n",
       "        1043999,  1044572,  1047630,  1048672,  1049815,  1050670,\n",
       "        1050718,  1054590,  1054593,  1056784,  1057013,  1059552,\n",
       "        1065726,  1066373,  1066979,  1067444,  1070935,  1071760,\n",
       "        1072179,  1074610,  1075123,  1079304,  1080185,  1081791,\n",
       "        1084584,  1091262,  1096800,  1099510,  1100524,  1102573,\n",
       "        1103608,  1103722,  1105257,  1105524,  1106095,  1106829,\n",
       "        1108370,  1108449,  1110102,  1110503,  1110524,  1111249,\n",
       "        1112209,  1113038,  1113483,  1113906,  1115282,  1115293,\n",
       "        1116116,  1116132,  1116192,  1116998,  1117152,  1118039,\n",
       "        1120559,  1121732,  1121919,  1123061,  1124651,  1125035,\n",
       "        1126417,  1131294,  1132347,  1133041,  1133136,  1136142,\n",
       "        1137156,  1143978,  1147044,  1147699,  1147748,  1148278,\n",
       "        1148873,  1152331,  1155546,  1156272,  1156948,  1157734,\n",
       "        1158247,  1160476,  1164066,  1165297,  1165790,  1165926,\n",
       "        1166630,  1166654,  1167439,  1167471,  1168359,  1168736,\n",
       "        1169049,  1170419,  1170420,  1171710,  1171795,  1171845,\n",
       "        1172152,  1173216,  1173235,  1173347,  1173509,  1173514,\n",
       "        1173681,  1174057,  1174131,  1174428,  1175937,  1176406,\n",
       "        1176881,  1177027,  1177399,  1177512,  1178580,  1179818,\n",
       "        1180194,  1180523,  1180831,  1181356,  1182404,  1182410,\n",
       "        1183240,  1183246,  1183516,  1183911,  1183983,  1184184,\n",
       "        1184241,  1184840,  1185609,  1185610,  1187457,  1187805,\n",
       "        1188472,  1189266,  1189286,  1190394,  1190485,  1192325,\n",
       "        1193091,  1193210,  1193683,  1196295,  1196915,  1197080,\n",
       "        1197270,  1197440,  1197510,  1197979,  1197993,  1198128,\n",
       "        1198641,  1199219,  1199731,  1199983,  1200772,  1200847,\n",
       "        1200892,  1200952,  1201834,  1201936,  1202125,  1202812,\n",
       "        1203096,  1204242,  1204898,  1205138,  1205579,  1206089,\n",
       "        1206695,  1206841,  1207986,  1208301,  1210963,  1211202,\n",
       "        1212232,  1212251,  1212422,  1213375,  1213383,  1214092,\n",
       "        1214556,  1214966,  1216694,  1216947,  1217051,  1217264,\n",
       "        1218105,  1218741,  1218860,  1219406,  1219525,  1219859,\n",
       "        1220330,  1221863,  1222047,  1222936,  1223282,  1223426,\n",
       "        1223793,  1223967,  1224329,  1225799,  1226012,  1226612,\n",
       "        1227210,  1227244,  1227481,  1228152,  1228311,  1230175,\n",
       "        1230688,  1231387,  1231706,  1232225,  1236043,  1241232,\n",
       "        1241559,  1241679,  1242364,  1243256,  1270479,  1276091,\n",
       "        1277018,   128059,  1285531,  1287775,   144888,   145447,\n",
       "         167528,   169356,   183913,   191250,   242970,   255644,\n",
       "         263538,   274137,   303213,   314428,   320675,   324427,\n",
       "         385103,   390840,   411453,   428903,   431495,   432809,\n",
       "         434518,   452264,   456282,   476903,   486283,   486662,\n",
       "         488173,   492268,   508234,   527363,   529329,   535331,\n",
       "         543558,   555977,   560680,   561477,   563649,   601265,\n",
       "         606140,   606722,   616240,    61634,   625201,    63375,\n",
       "         635844,   636130,   640744,   646904,   653777,   659642,\n",
       "         666090,   666942,   667204,   673637,   684955,   688033,\n",
       "         691628,   693702,   704097,   704168,   706426,   709287,\n",
       "         718641,   721482,   730881,   733639,   733823,   740492,\n",
       "         743348,   752904,   756136,   760001,   760239,    76389,\n",
       "         764974,   770066,   785208,   785615,   792744,   797327,\n",
       "         798429,   806423,   809912,   810104,   814265,   814911,\n",
       "         822829,   826923,   830690,   831268,   832226,   832567,\n",
       "         836433,   837082,   846832,   850831,   855524,   857774,\n",
       "         859164,   859350,   866325,   873549,   877291,   877943,\n",
       "         888169,   888523,   896404,   897172,    95719,   160296,\n",
       "         342245,   428598,   492561,   493452,   521441,   636437,\n",
       "         640712,   654244,   657753,   685977,   805448,   846423,\n",
       "        1002504,  1022257,  1026122,  1071084,  1080233,  1114570,\n",
       "        1116715,  1131411,  1151734,  1156017,  1158405,  1168278,\n",
       "        1176187,  1196263,  1196475,  1206314,  1211265,  1213784,\n",
       "        1223003,  1223306,  1223543,  1229929,  1231853,  1234554,\n",
       "        1236837,  1237674,  1238021,  1238464,  1238633,  1238915,\n",
       "        1238948,  1239232,  1239347,  1239967,  1240337,  1253505,\n",
       "        1255384,  1257200,  1257648,  1257815,  1257938,  1258549,\n",
       "        1258556,  1266154,  1272039,  1277629,  1293439,  1294562,\n",
       "        1295186,   527337,   558538,   566509,   608157,   677910,\n",
       "         734111,   780555,   827627,  1049837,  1058849,  1193544,\n",
       "        1201870,  1202253,  1227081,  1230994,  1238410,  1246562,\n",
       "        1257470,  1259008,  1266124,  1267898,  1268313,  1268804,\n",
       "        1280258,  1293966,  1296572,  1298416,  1299596,  1181685,\n",
       "        1211594,  1238777,  1257608,  1269574,  1277145,  1287282,\n",
       "        1296025,  1296263,  1296593,  1299161,  1301945,  1302428,\n",
       "        1318169,   474162,   787451,  1002025,  1070522,  1073960,\n",
       "        1076352,  1084139,  1119189,  1133991,  1142706,  1155967,\n",
       "        1170945,  1181567,  1204558,  1217952,  1224565,  1238186,\n",
       "        1253917,  1265899,  1268766,  1277268,  1286943,  1295508,\n",
       "        1297327,  1297522,  1298360,  1299924,  1299994,  1304595,\n",
       "        1306282,  1313325,  1320077,  1320304,  1330439,   333093,\n",
       "         369565,   412300,   672113,   749653,   769612,   807657,\n",
       "        8233704,   837480,   867392,   869828,  1043068,  1056171,\n",
       "        1061990,  1113061,  1135090,  1145420,  1158157,  1171578,\n",
       "        1174841,  1184586,  1186936,  1197527,  1222464,  1240603,\n",
       "        1241035,  1287971,  1289391,  1306339,  1313658,  1313982,\n",
       "        1321264,  1321321,  1321348,  1321931,  1321942,  1328331,\n",
       "        1328755,  1331405,  1331412,  1333104,  1334071,  1343068,\n",
       "        1343374,  1344121,   142932,   183936,   324382,   378275,\n",
       "         690557,   695091,   695219,   824249,   871549,   878358,\n",
       "        1107684,  1115762,  1217717,  1239420,  1254538,  1261751,\n",
       "        1268275,  1272166,  1294261,  1295529,  1298484,  1311875,\n",
       "        1315506,  1320141,  1325309,  1333063,  1333495,  1334659,\n",
       "        1336798,  1344449,  1350568,  1352663,   188336,   352431,\n",
       "         353098,   557583,   636375,   736150,   803531,  1016634,\n",
       "        1031608,  1041043,  1042252,  1057067,  1073836,  1083817,\n",
       "        1096352,  1140597,  1149548,  1174009,  1183596,  1190386,\n",
       "        1190546,  1213273,  1218982,  1225382,  1235807,  1253955,\n",
       "        1257366,  1260659,  1268952,  1275807,  1277792,  1285722,\n",
       "        1288608,  1290203,  1294413,  1303489,  1311033,  1311108,\n",
       "        1315807,  1318671,  1319609,  1323477,  1324572,  1324681,\n",
       "        1325159,  1326892,  1330361,  1333877,  1334015,  1334667,\n",
       "        1339781, 13454352,  1345452,  1345593,  1347749,  1347943,\n",
       "        1348851,  1350319,  1350423,  1352848,  1353092,  1354840,\n",
       "        1355260,  1365075,  1365328,  1368267,  1368273,  1368882,\n",
       "        1369821,  1371026,  1371920,   466906,   534555,   536708,\n",
       "         566346,   603148,   654546,   714039,   763235,   776715,\n",
       "         841769,   888820,   897471])"
      ]
     },
     "execution_count": 58,
     "metadata": {},
     "output_type": "execute_result"
    }
   ],
   "source": [
    "data.max(axis=1)"
   ]
  },
  {
   "cell_type": "markdown",
   "metadata": {},
   "source": [
    "External References:\n",
    "* [Numpy reference](https://docs.scipy.org/doc/numpy/reference/)\n",
    "* [Scipy reference](https://docs.scipy.org/doc/scipy/reference/)\n",
    "* [Numpy cheatsheat](https://s3.amazonaws.com/assets.datacamp.com/blog_assets/Numpy_Python_Cheat_Sheet.pdf)"
   ]
  },
  {
   "cell_type": "code",
   "execution_count": null,
   "metadata": {},
   "outputs": [],
   "source": []
  }
 ],
 "metadata": {
  "kernelspec": {
   "display_name": "Python 3",
   "language": "python",
   "name": "python3"
  },
  "language_info": {
   "codemirror_mode": {
    "name": "ipython",
    "version": 3
   },
   "file_extension": ".py",
   "mimetype": "text/x-python",
   "name": "python",
   "nbconvert_exporter": "python",
   "pygments_lexer": "ipython3",
   "version": "3.8.8"
  }
 },
 "nbformat": 4,
 "nbformat_minor": 2
}

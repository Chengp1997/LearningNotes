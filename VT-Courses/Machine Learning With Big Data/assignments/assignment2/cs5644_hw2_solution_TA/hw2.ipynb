{
 "cells": [
  {
   "cell_type": "code",
   "execution_count": 1,
   "metadata": {},
   "outputs": [],
   "source": [
    "%matplotlib inline\n",
    "from matplotlib import pyplot as plt\n",
    "import numpy as np\n",
    "import csv \n",
    "import sklearn\n",
    "from sklearn import model_selection\n",
    "from sklearn import metrics\n",
    "from sklearn import tree\n",
    "from sklearn import naive_bayes"
   ]
  },
  {
   "cell_type": "code",
   "execution_count": 2,
   "metadata": {},
   "outputs": [],
   "source": [
    "X = []\n",
    "y = []\n",
    "for line in csv.reader(open(\"house-votes-84.data\")):\n",
    "    # chose y=2, ?=1, n=0 because for the algo that sklearn uses it breaks it by ranges\n",
    "    # in this case a ? means did not vote which seems to me in many cases to be abstention\n",
    "    # which is in between a yes and a no, this is not the only interpretation: it might \n",
    "    # also mean absent if a congressperson was sick, FWIW there are arguments to other methods\n",
    "    to_num = {\"republican\": 0, \"democrat\": 1, \"y\": 2, \"n\": 0, \"?\": 1} \n",
    "    line = [to_num[v] for v in line]\n",
    "    y += [line[0]]\n",
    "    X += [line[1:]]\n",
    "X = np.array(X)\n",
    "y = np.array(y)"
   ]
  },
  {
   "cell_type": "code",
   "execution_count": 3,
   "metadata": {},
   "outputs": [],
   "source": [
    "def drop_missing(X, y):\n",
    "    Xout = []\n",
    "    yout = []\n",
    "    for i, j in zip(X, y):\n",
    "        if 1 in i: # if \"?\" in this row\n",
    "            continue\n",
    "        Xout.append(i)\n",
    "        yout.append(j)\n",
    "    Xout = np.array(Xout)\n",
    "    yout = np.array(yout)\n",
    "    return Xout, yout\n",
    "\n",
    "X_missing, y_missing = drop_missing(X, y)"
   ]
  },
  {
   "cell_type": "code",
   "execution_count": 4,
   "metadata": {},
   "outputs": [],
   "source": [
    "def impute_missing(X, y):\n",
    "    Xout = X.copy()\n",
    "    yout = y.copy()\n",
    "    \n",
    "    for i in range(X.shape[1]):\n",
    "        missings = (Xout[:, i] == 1) # missings is column array whose elements are true when a row is == \"?\"\n",
    "        yeses = (Xout[:, i] == 2).sum()  # take advantage the True = 1 when summed\n",
    "        noes = (Xout[:, i] == 0).sum()\n",
    "        if yeses > noes:\n",
    "            impute_value = 2\n",
    "        else:\n",
    "            impute_value = 0\n",
    "        Xout[missings, i] = impute_value # where misssings is true in column i, set impute value\n",
    "    \n",
    "    return Xout, yout\n",
    "\n",
    "X_impute, y_impute = impute_missing(X, y)"
   ]
  },
  {
   "cell_type": "code",
   "execution_count": 5,
   "metadata": {},
   "outputs": [],
   "source": [
    "def eval_one(X, y, model, version=\"\"):\n",
    "    kf = model_selection.KFold(n_splits=5)\n",
    "\n",
    "    f1, precision, recall = [], [], []\n",
    "    for train_index, test_index in kf.split(X):    \n",
    "        X_train, X_test = X[train_index], X[test_index]\n",
    "        y_train, y_test = y[train_index], y[test_index]\n",
    "        model.fit(X_train, y_train)\n",
    "        y_pred = model.predict(X_test)\n",
    "        f1 += [metrics.f1_score(y_test, y_pred)]\n",
    "        precision += [metrics.precision_score(y_test, y_pred)]\n",
    "        recall += [metrics.recall_score(y_test, y_pred)]\n",
    "    \n",
    "\n",
    "    \n",
    "    print(\"{}:{}:\\n    prec={} +/-{}\\n    recall={} +/-{}\\n    f1={} +/-{}\".format(\n",
    "        model.__class__.__name__, version,\n",
    "        np.mean(precision), np.std(precision),\n",
    "        np.mean(recall), np.std(recall),\n",
    "        np.mean(f1), np.std(f1)))\n",
    "    \n",
    "    "
   ]
  },
  {
   "cell_type": "code",
   "execution_count": 6,
   "metadata": {},
   "outputs": [
    {
     "name": "stdout",
     "output_type": "stream",
     "text": [
      "BernoulliNB:ternary:\n",
      "    prec=0.9398006379585327 +/-0.018600560093907845\n",
      "    recall=0.8865591955214598 +/-0.07850105772547056\n",
      "    f1=0.9109087450666425 +/-0.0468727447446568\n",
      "DecisionTreeClassifier:ternary:\n",
      "    prec=0.9672559093150668 +/-0.029977200982392847\n",
      "    recall=0.947299398714493 +/-0.04212800700083204\n",
      "    f1=0.9560404889228419 +/-0.01736908307853755\n",
      "BernoulliNB:missing:\n",
      "    prec=0.9505027156751295 +/-0.03747089010954538\n",
      "    recall=0.8892857142857142 +/-0.09141120866882128\n",
      "    f1=0.9173666489455963 +/-0.06173334206629656\n",
      "DecisionTreeClassifier:missing:\n",
      "    prec=0.9575303257462178 +/-0.039991484015640434\n",
      "    recall=0.9583333333333333 +/-0.052704627669472995\n",
      "    f1=0.9569951706277721 +/-0.036155169177220794\n",
      "BernoulliNB:impute:\n",
      "    prec=0.944111437189207 +/-0.008932482593477833\n",
      "    recall=0.8903327804271199 +/-0.0732580349605667\n",
      "    f1=0.915065233176399 +/-0.0413602104797454\n",
      "DecisionTreeClassifier:impute:\n",
      "    prec=0.9671388819378409 +/-0.029523498006898435\n",
      "    recall=0.9441322828115281 +/-0.03915554362427631\n",
      "    f1=0.954477302109513 +/-0.015562509525224949\n"
     ]
    }
   ],
   "source": [
    "eval_one(X, y, naive_bayes.BernoulliNB(), \"ternary\")\n",
    "eval_one(X, y, tree.DecisionTreeClassifier(), \"ternary\")\n",
    "\n",
    "eval_one(X_missing, y_missing, naive_bayes.BernoulliNB(), \"missing\")\n",
    "eval_one(X_missing, y_missing, tree.DecisionTreeClassifier(), \"missing\")\n",
    "\n",
    "eval_one(X_impute, y_impute, naive_bayes.BernoulliNB(), \"impute\")\n",
    "eval_one(X_impute, y_impute, tree.DecisionTreeClassifier(), \"impute\")\n"
   ]
  },
  {
   "cell_type": "code",
   "execution_count": null,
   "metadata": {},
   "outputs": [],
   "source": []
  }
 ],
 "metadata": {
  "kernelspec": {
   "display_name": "Python 3",
   "language": "python",
   "name": "python3"
  },
  "language_info": {
   "codemirror_mode": {
    "name": "ipython",
    "version": 3
   },
   "file_extension": ".py",
   "mimetype": "text/x-python",
   "name": "python",
   "nbconvert_exporter": "python",
   "pygments_lexer": "ipython3",
   "version": "3.8.7"
  }
 },
 "nbformat": 4,
 "nbformat_minor": 2
}

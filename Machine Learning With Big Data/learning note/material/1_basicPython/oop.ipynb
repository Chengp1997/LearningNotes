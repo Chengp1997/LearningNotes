{
 "cells": [
  {
   "cell_type": "markdown",
   "metadata": {},
   "source": [
    "# Object Oriented Programming\n",
    "\n",
    "\n",
    "## OOP\n",
    "\n",
    "By convention the first variable in any class member function is called self and acts the same as a `this` variable in Java."
   ]
  },
  {
   "cell_type": "code",
   "execution_count": 2,
   "metadata": {},
   "outputs": [],
   "source": [
    "class Foo(object):\n",
    "    \"\"\"\n",
    "    Foo is a subclass of object, this isn't strictly required if you're \n",
    "    doing Python 3 but is good practice if you want to write code that runs Python 2\n",
    "    \"\"\"\n",
    "    def __init__(self, bar):   # this is initialization function\n",
    "        self._bar = bar        # by convention variables that you expect to be private \n",
    "                               # start with an underscore\n",
    "        self.magic_number = 42\n",
    "    \n",
    "    def print(self):\n",
    "        print(\"The answer is \", self.magic_number)\n",
    "        \n",
    "    def update_bar(self,n):\n",
    "        \"\"\"\n",
    "        add n to the bar variable\n",
    "        \"\"\"\n",
    "        self._bar+=n\n",
    "        \n",
    "    def __repr__(self):\n",
    "        \"\"\"\n",
    "        The repr or representation function returns a string that is used when printing\n",
    "        a class\n",
    "        \"\"\"\n",
    "        return \"<Foo: bar={} num={}>\".format(self._bar, self.magic_number)"
   ]
  },
  {
   "cell_type": "code",
   "execution_count": 3,
   "metadata": {},
   "outputs": [],
   "source": [
    "a = Foo(1)"
   ]
  },
  {
   "cell_type": "code",
   "execution_count": 4,
   "metadata": {},
   "outputs": [
    {
     "name": "stdout",
     "output_type": "stream",
     "text": [
      "<Foo: bar=1 num=42>\n"
     ]
    }
   ],
   "source": [
    "print(a)"
   ]
  },
  {
   "cell_type": "code",
   "execution_count": 5,
   "metadata": {},
   "outputs": [
    {
     "data": {
      "text/plain": [
       "<Foo: bar=2 num=42>"
      ]
     },
     "execution_count": 5,
     "metadata": {},
     "output_type": "execute_result"
    }
   ],
   "source": [
    "a._bar = 2\n",
    "a"
   ]
  },
  {
   "cell_type": "code",
   "execution_count": 6,
   "metadata": {},
   "outputs": [
    {
     "name": "stdout",
     "output_type": "stream",
     "text": [
      "The answer is  42\n"
     ]
    }
   ],
   "source": [
    "a.print()"
   ]
  },
  {
   "cell_type": "code",
   "execution_count": 7,
   "metadata": {},
   "outputs": [],
   "source": [
    "class Bar(Foo):                          # Inherits functions from Foo\n",
    "    def print(self):                     # override the inherited function \n",
    "        print(\"What is the question?\")\n",
    "        super().print()                  # call the inherited function"
   ]
  },
  {
   "cell_type": "code",
   "execution_count": 8,
   "metadata": {},
   "outputs": [],
   "source": [
    "b = Bar(1)"
   ]
  },
  {
   "cell_type": "code",
   "execution_count": 9,
   "metadata": {},
   "outputs": [
    {
     "name": "stdout",
     "output_type": "stream",
     "text": [
      "What is the question?\n",
      "The answer is  42\n"
     ]
    }
   ],
   "source": [
    "b.print()"
   ]
  }
 ],
 "metadata": {
  "kernelspec": {
   "display_name": "Python 3",
   "language": "python",
   "name": "python3"
  },
  "language_info": {
   "codemirror_mode": {
    "name": "ipython",
    "version": 3
   },
   "file_extension": ".py",
   "mimetype": "text/x-python",
   "name": "python",
   "nbconvert_exporter": "python",
   "pygments_lexer": "ipython3",
   "version": "3.8.8"
  }
 },
 "nbformat": 4,
 "nbformat_minor": 2
}

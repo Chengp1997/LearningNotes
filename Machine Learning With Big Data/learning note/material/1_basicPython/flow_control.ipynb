{
 "cells": [
  {
   "cell_type": "markdown",
   "metadata": {},
   "source": [
    "# Flow control and Functions\n",
    "\n",
    "The most basic thing of note here is that instead of the braces to delimit blocks as your familiar with in Java, Python uses indentation, therefore indentation is mandatory and should contain 4 spaces per indentation level and not tabs.  Python will allow this but most professional shops discourage it and use something similar to [PEP8 styling](https://www.python.org/dev/peps/pep-0008/).\n",
    "\n",
    "## If - Else If - Else loops"
   ]
  },
  {
   "cell_type": "code",
   "execution_count": 14,
   "metadata": {},
   "outputs": [],
   "source": [
    "a = \"a\"\n",
    "l = [\"a\", \"b\", \"c\"]"
   ]
  },
  {
   "cell_type": "code",
   "execution_count": 15,
   "metadata": {},
   "outputs": [
    {
     "name": "stdout",
     "output_type": "stream",
     "text": [
      "contains a\n"
     ]
    }
   ],
   "source": [
    "if  a in l:\n",
    "    print(\"contains a\")  # the does get run\n",
    "elif \"b\" in l:\n",
    "    print(\"contains b\")  # this doesn't get run because we went down the first control path \n",
    "else:\n",
    "    print(\"Nothing to see here\")  # the catch all path"
   ]
  },
  {
   "cell_type": "markdown",
   "metadata": {},
   "source": [
    "## For loops\n",
    "\n",
    "The pythonic way to do things is to iterate.  And so to loop from 0-9 we use the ranger iterator to loop over a set of integers"
   ]
  },
  {
   "cell_type": "code",
   "execution_count": 16,
   "metadata": {},
   "outputs": [
    {
     "name": "stdout",
     "output_type": "stream",
     "text": [
      "0\n",
      "2\n",
      "4\n",
      "6\n",
      "8\n"
     ]
    }
   ],
   "source": [
    "for i in range(0, 10, 2):  # eq to Java for(int i = 0; i < 10; i += 2)\n",
    "    print(i)"
   ]
  },
  {
   "cell_type": "markdown",
   "metadata": {},
   "source": [
    "Many types provide their own iterator, this is true for lists, tuples, elements, dictionaries, and many others"
   ]
  },
  {
   "cell_type": "code",
   "execution_count": 18,
   "metadata": {},
   "outputs": [
    {
     "name": "stdout",
     "output_type": "stream",
     "text": [
      "a\n",
      "b\n",
      "c\n"
     ]
    }
   ],
   "source": [
    "for element in l:\n",
    "    print(element)"
   ]
  },
  {
   "cell_type": "code",
   "execution_count": 19,
   "metadata": {},
   "outputs": [
    {
     "name": "stdout",
     "output_type": "stream",
     "text": [
      "2\n",
      "3\n",
      "4\n",
      "5\n",
      "6\n",
      "7\n",
      "8\n",
      "9\n",
      "10\n"
     ]
    }
   ],
   "source": [
    "i =1\n",
    "while i % 10 != 0:\n",
    "    i += 1\n",
    "    print(i)"
   ]
  },
  {
   "cell_type": "markdown",
   "metadata": {},
   "source": [
    "Try Except clauses allow us to catch error and handle them just like Java"
   ]
  },
  {
   "cell_type": "code",
   "execution_count": 1,
   "metadata": {},
   "outputs": [
    {
     "name": "stdout",
     "output_type": "stream",
     "text": [
      "here\n",
      "division by zero that's not good math\n"
     ]
    }
   ],
   "source": [
    "try:\n",
    "    print(\"here\")\n",
    "    a = 1 / 0\n",
    "    print(\"there\")\n",
    "except ZeroDivisionError as e:\n",
    "    print(e, \"that's not good math\")"
   ]
  },
  {
   "cell_type": "code",
   "execution_count": 28,
   "metadata": {},
   "outputs": [],
   "source": [
    "## Functions"
   ]
  },
  {
   "cell_type": "code",
   "execution_count": 29,
   "metadata": {},
   "outputs": [
    {
     "name": "stdout",
     "output_type": "stream",
     "text": [
      "42\n"
     ]
    }
   ],
   "source": [
    "def foo(bar):\n",
    "    bar += 1\n",
    "    print(bar)\n",
    "\n",
    "foo(41)"
   ]
  },
  {
   "cell_type": "code",
   "execution_count": 31,
   "metadata": {},
   "outputs": [
    {
     "name": "stdout",
     "output_type": "stream",
     "text": [
      "I am more concerned about n being zero\n"
     ]
    }
   ],
   "source": [
    "def foo(bar, n):\n",
    "    if n > 0:\n",
    "        print(bar)\n",
    "    else:\n",
    "        print(\"I am more concerned about n being zero\")\n",
    "foo(42, 0)"
   ]
  }
 ],
 "metadata": {
  "kernelspec": {
   "display_name": "Python 3",
   "language": "python",
   "name": "python3"
  },
  "language_info": {
   "codemirror_mode": {
    "name": "ipython",
    "version": 3
   },
   "file_extension": ".py",
   "mimetype": "text/x-python",
   "name": "python",
   "nbconvert_exporter": "python",
   "pygments_lexer": "ipython3",
   "version": "3.8.8"
  }
 },
 "nbformat": 4,
 "nbformat_minor": 2
}

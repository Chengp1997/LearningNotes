{
 "cells": [
  {
   "cell_type": "markdown",
   "metadata": {},
   "source": [
    "## File I/O\n",
    "\n",
    "Files can be opened using the `open` function the first two arguments it takes is a filename and a mode strings.  For more information evaluate the box below.\n"
   ]
  },
  {
   "cell_type": "code",
   "execution_count": 1,
   "metadata": {},
   "outputs": [],
   "source": [
    "open?"
   ]
  },
  {
   "cell_type": "markdown",
   "metadata": {},
   "source": [
    "This opens a file and dumps 3 lines to it.  This provides us something to read"
   ]
  },
  {
   "cell_type": "code",
   "execution_count": 2,
   "metadata": {},
   "outputs": [],
   "source": [
    "fout = open(\"tmpfile\", \"wt\") #write to file\n",
    "fout.write(\"First line\\n\")\n",
    "fout.write(\"Second line\\n\")\n",
    "fout.write(\"Third line\")\n",
    "fout.close()"
   ]
  },
  {
   "cell_type": "code",
   "execution_count": 3,
   "metadata": {},
   "outputs": [
    {
     "name": "stdout",
     "output_type": "stream",
     "text": [
      "First line\n",
      "Second line\n",
      "Third line\n"
     ]
    }
   ],
   "source": [
    "with open(\"tmpfile\", \"rt\") as fin:  # We can use a with block to close the file when control leaves the block\n",
    "    for line in fin:                # If we iterate over a file we get back lines for each loop\n",
    "        print(line.strip())"
   ]
  },
  {
   "cell_type": "code",
   "execution_count": 4,
   "metadata": {},
   "outputs": [
    {
     "name": "stdout",
     "output_type": "stream",
     "text": [
      "Fir\n"
     ]
    }
   ],
   "source": [
    "with open(\"tmpfile\", \"rt\") as fin:\n",
    "    print(fin.read(3))  # print the first 3 characters of the file"
   ]
  },
  {
   "cell_type": "markdown",
   "metadata": {},
   "source": [
    "## CSV \n",
    "Reading and writing CSV files will be a common task in this class.  Although I will show you other ways of doing it that may be quicker, this is a good example that shows how to read/write csv files in a low-level manner."
   ]
  },
  {
   "cell_type": "code",
   "execution_count": 3,
   "metadata": {},
   "outputs": [],
   "source": [
    "import csv"
   ]
  },
  {
   "cell_type": "code",
   "execution_count": 4,
   "metadata": {},
   "outputs": [],
   "source": [
    "csv?"
   ]
  },
  {
   "cell_type": "code",
   "execution_count": 7,
   "metadata": {},
   "outputs": [],
   "source": [
    "with open(\"tmpfile\", \"wt\", newline='') as fout:\n",
    "    writer = csv.writer(fout)\n",
    "    writer.writerow([1,2,3,4,5])\n",
    "    writer.writerow(list(range(6,11)))"
   ]
  },
  {
   "cell_type": "code",
   "execution_count": 8,
   "metadata": {},
   "outputs": [
    {
     "name": "stdout",
     "output_type": "stream",
     "text": [
      "['1', '2', '3', '4', '5']\n",
      "['6', '7', '8', '9', '10']\n"
     ]
    }
   ],
   "source": [
    "with open(\"tmpfile\", \"rt\", newline='') as fin:\n",
    "    reader = csv.reader(fin)\n",
    "    for row in reader:   # all elements in the returned row will be strings\n",
    "        print(row)       # you must handle the case of converting it to a float or int"
   ]
  },
  {
   "cell_type": "code",
   "execution_count": 9,
   "metadata": {},
   "outputs": [
    {
     "name": "stdout",
     "output_type": "stream",
     "text": [
      "1\n",
      "6\n"
     ]
    }
   ],
   "source": [
    "with open(\"tmpfile\", \"rt\", newline='') as fin:\n",
    "    reader = csv.reader(fin)\n",
    "    for a, b, c, d, e in reader:  # this is called variable unpacking, each element in the \n",
    "        print(a)                  # returned list is assigned to a variable #vars == #elements  "
   ]
  },
  {
   "cell_type": "code",
   "execution_count": 10,
   "metadata": {},
   "outputs": [],
   "source": [
    "# This cell just cleans up the file so I am not leaving any detritus on your HDs\n",
    "import os\n",
    "os.unlink(\"tmpfile\")"
   ]
  }
 ],
 "metadata": {
  "kernelspec": {
   "display_name": "Python 3",
   "language": "python",
   "name": "python3"
  },
  "language_info": {
   "codemirror_mode": {
    "name": "ipython",
    "version": 3
   },
   "file_extension": ".py",
   "mimetype": "text/x-python",
   "name": "python",
   "nbconvert_exporter": "python",
   "pygments_lexer": "ipython3",
   "version": "3.8.8"
  }
 },
 "nbformat": 4,
 "nbformat_minor": 2
}

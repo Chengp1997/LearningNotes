{
 "cells": [
  {
   "cell_type": "code",
   "execution_count": 1,
   "metadata": {},
   "outputs": [],
   "source": [
    "import sklearn\n",
    "import sklearn.tree\n",
    "import numpy as np\n",
    "from sklearn.naive_bayes import BernoulliNB"
   ]
  },
  {
   "cell_type": "code",
   "execution_count": 2,
   "metadata": {},
   "outputs": [],
   "source": [
    "col_names = \"rain,hot temp.,mild temp.,High Humidity,Strong winds,playTennis\"\n",
    "my_tennis_data = np.array([[0, 1, 0, 1, 0, 0],\n",
    "       [0, 1, 0, 1, 1, 0],\n",
    "       [1, 0, 1, 1, 0, 1],\n",
    "       [1, 0, 0, 0, 0, 1],\n",
    "       [1, 0, 0, 0, 1, 0],\n",
    "       [0, 0, 1, 1, 0, 1],\n",
    "       [0, 0, 0, 0, 0, 1],\n",
    "       [1, 0, 1, 0, 0, 1],\n",
    "       [0, 0, 1, 0, 1, 1],\n",
    "       [1, 0, 1, 1, 1, 0]])"
   ]
  },
  {
   "cell_type": "code",
   "execution_count": 3,
   "metadata": {},
   "outputs": [
    {
     "data": {
      "text/plain": [
       "array([[0, 1, 0, 1, 0, 0],\n",
       "       [0, 1, 0, 1, 1, 0],\n",
       "       [1, 0, 1, 1, 0, 1],\n",
       "       [1, 0, 0, 0, 0, 1],\n",
       "       [1, 0, 0, 0, 1, 0],\n",
       "       [0, 0, 1, 1, 0, 1],\n",
       "       [0, 0, 0, 0, 0, 1],\n",
       "       [1, 0, 1, 0, 0, 1],\n",
       "       [0, 0, 1, 0, 1, 1],\n",
       "       [1, 0, 1, 1, 1, 0]])"
      ]
     },
     "execution_count": 3,
     "metadata": {},
     "output_type": "execute_result"
    }
   ],
   "source": [
    "my_tennis_data"
   ]
  },
  {
   "cell_type": "code",
   "execution_count": 4,
   "metadata": {},
   "outputs": [],
   "source": [
    "### select all rows except last column\n",
    "X = my_tennis_data[:, :-1] \n",
    "### select last column\n",
    "y = my_tennis_data[:, -1]\n",
    "label_name = [\"Dont play Tennis\", \"Play Tennis\"]"
   ]
  },
  {
   "cell_type": "code",
   "execution_count": 5,
   "metadata": {},
   "outputs": [
    {
     "data": {
      "text/plain": [
       "BernoulliNB(alpha=1.0, binarize=0.0, class_prior=None, fit_prior=True)"
      ]
     },
     "execution_count": 5,
     "metadata": {},
     "output_type": "execute_result"
    }
   ],
   "source": [
    "bayes_clf = BernoulliNB()\n",
    "bayes_clf.fit(X, y)"
   ]
  },
  {
   "cell_type": "code",
   "execution_count": 6,
   "metadata": {},
   "outputs": [
    {
     "name": "stdout",
     "output_type": "stream",
     "text": [
      "predicted: [1 1]\n",
      "truth [1 0]\n"
     ]
    }
   ],
   "source": [
    "print(\"predicted:\", bayes_clf.predict(X[-2:,:]))\n",
    "print(\"truth\", y[-2:])"
   ]
  },
  {
   "cell_type": "code",
   "execution_count": 8,
   "metadata": {},
   "outputs": [
    {
     "data": {
      "text/plain": [
       "array([[0.78928606, 0.21071394],\n",
       "       [0.95740081, 0.04259919],\n",
       "       [0.13832697, 0.86167303],\n",
       "       [0.13832697, 0.86167303],\n",
       "       [0.49062706, 0.50937294],\n",
       "       [0.13832697, 0.86167303],\n",
       "       [0.13832697, 0.86167303],\n",
       "       [0.0459471 , 0.9540529 ],\n",
       "       [0.2241804 , 0.7758196 ],\n",
       "       [0.49062706, 0.50937294]])"
      ]
     },
     "execution_count": 8,
     "metadata": {},
     "output_type": "execute_result"
    }
   ],
   "source": [
    "bayes_clf.predict_proba(X)"
   ]
  },
  {
   "cell_type": "code",
   "execution_count": null,
   "metadata": {},
   "outputs": [],
   "source": []
  }
 ],
 "metadata": {
  "anaconda-cloud": {},
  "kernelspec": {
   "display_name": "Python 3",
   "language": "python",
   "name": "python3"
  },
  "language_info": {
   "codemirror_mode": {
    "name": "ipython",
    "version": 3
   },
   "file_extension": ".py",
   "mimetype": "text/x-python",
   "name": "python",
   "nbconvert_exporter": "python",
   "pygments_lexer": "ipython3",
   "version": "3.8.8"
  }
 },
 "nbformat": 4,
 "nbformat_minor": 1
}

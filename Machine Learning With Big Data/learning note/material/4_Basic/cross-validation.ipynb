{
 "cells": [
  {
   "cell_type": "markdown",
   "metadata": {},
   "source": [
    "# Cross Validation and model Selection\n",
    "\n",
    "## imports"
   ]
  },
  {
   "cell_type": "code",
   "execution_count": 1,
   "metadata": {},
   "outputs": [],
   "source": [
    "%matplotlib inline\n",
    "import numpy as np\n",
    "import matplotlib.pyplot as plt\n",
    "import pandas as pd \n",
    "\n",
    "import sklearn\n",
    "from sklearn import tree\n",
    "from sklearn import datasets\n",
    "from sklearn import model_selection\n",
    "from sklearn import metrics"
   ]
  },
  {
   "cell_type": "markdown",
   "metadata": {},
   "source": [
    "## Load Data"
   ]
  },
  {
   "cell_type": "code",
   "execution_count": 2,
   "metadata": {},
   "outputs": [
    {
     "name": "stdout",
     "output_type": "stream",
     "text": [
      "['sepal length (cm)', 'sepal width (cm)', 'petal length (cm)', 'petal width (cm)']\n"
     ]
    },
    {
     "data": {
      "text/html": [
       "<div>\n",
       "<style scoped>\n",
       "    .dataframe tbody tr th:only-of-type {\n",
       "        vertical-align: middle;\n",
       "    }\n",
       "\n",
       "    .dataframe tbody tr th {\n",
       "        vertical-align: top;\n",
       "    }\n",
       "\n",
       "    .dataframe thead th {\n",
       "        text-align: right;\n",
       "    }\n",
       "</style>\n",
       "<table border=\"1\" class=\"dataframe\">\n",
       "  <thead>\n",
       "    <tr style=\"text-align: right;\">\n",
       "      <th></th>\n",
       "      <th>sepal_length</th>\n",
       "      <th>sepal_width</th>\n",
       "      <th>petal_length</th>\n",
       "      <th>petal_width</th>\n",
       "      <th>target</th>\n",
       "    </tr>\n",
       "  </thead>\n",
       "  <tbody>\n",
       "    <tr>\n",
       "      <th>0</th>\n",
       "      <td>5.1</td>\n",
       "      <td>3.5</td>\n",
       "      <td>1.4</td>\n",
       "      <td>0.2</td>\n",
       "      <td>setosa</td>\n",
       "    </tr>\n",
       "    <tr>\n",
       "      <th>1</th>\n",
       "      <td>4.9</td>\n",
       "      <td>3.0</td>\n",
       "      <td>1.4</td>\n",
       "      <td>0.2</td>\n",
       "      <td>setosa</td>\n",
       "    </tr>\n",
       "    <tr>\n",
       "      <th>2</th>\n",
       "      <td>4.7</td>\n",
       "      <td>3.2</td>\n",
       "      <td>1.3</td>\n",
       "      <td>0.2</td>\n",
       "      <td>setosa</td>\n",
       "    </tr>\n",
       "    <tr>\n",
       "      <th>3</th>\n",
       "      <td>4.6</td>\n",
       "      <td>3.1</td>\n",
       "      <td>1.5</td>\n",
       "      <td>0.2</td>\n",
       "      <td>setosa</td>\n",
       "    </tr>\n",
       "    <tr>\n",
       "      <th>4</th>\n",
       "      <td>5.0</td>\n",
       "      <td>3.6</td>\n",
       "      <td>1.4</td>\n",
       "      <td>0.2</td>\n",
       "      <td>setosa</td>\n",
       "    </tr>\n",
       "  </tbody>\n",
       "</table>\n",
       "</div>"
      ],
      "text/plain": [
       "   sepal_length  sepal_width  petal_length  petal_width  target\n",
       "0           5.1          3.5           1.4          0.2  setosa\n",
       "1           4.9          3.0           1.4          0.2  setosa\n",
       "2           4.7          3.2           1.3          0.2  setosa\n",
       "3           4.6          3.1           1.5          0.2  setosa\n",
       "4           5.0          3.6           1.4          0.2  setosa"
      ]
     },
     "execution_count": 2,
     "metadata": {},
     "output_type": "execute_result"
    }
   ],
   "source": [
    "iris = datasets.load_iris()\n",
    "tmp = {name: iris.data[:, i] for i, name in enumerate(iris.feature_names)}  # dictionary comprehension\n",
    "# print(iris.data)\n",
    "print(iris.feature_names)\n",
    "tmp[\"target\"] = [iris.target_names[i] for i in iris.target]\n",
    "iris_df = pd.DataFrame(tmp)\n",
    "iris_df.columns = [\"sepal_length\", \"sepal_width\", \"petal_length\", \"petal_width\", \"target\"]\n",
    "iris_df.head()"
   ]
  },
  {
   "cell_type": "code",
   "execution_count": 3,
   "metadata": {},
   "outputs": [],
   "source": [
    "X = iris_df.drop([\"target\"], axis=1) # 除了最后一列的所有数据\n",
    "y = iris_df[\"target\"] #最后一列的所有\n",
    "clf = tree.DecisionTreeClassifier()  #classifier!\n",
    "# print(clf)"
   ]
  },
  {
   "cell_type": "code",
   "execution_count": 4,
   "metadata": {},
   "outputs": [
    {
     "name": "stdout",
     "output_type": "stream",
     "text": [
      "(100, 4) (50, 4)\n"
     ]
    }
   ],
   "source": [
    "(X_train, X_test, y_train, y_test) = model_selection.train_test_split(X, y, test_size=1/3) #split! \n",
    "# 机器学习一般会把数据分成训练数据和测试数据。 右边括号中，相当于---x为训练数据，y为目标数据，所要划分的样本结果。test_size为 样本占比\n",
    "# 这里的例子只是简单地进行分区，下面的例子是使用交叉验证的方式\n",
    "print(X_train.shape, X_test.shape) "
   ]
  },
  {
   "cell_type": "code",
   "execution_count": 5,
   "metadata": {},
   "outputs": [
    {
     "data": {
      "text/plain": [
       "array(['virginica', 'versicolor', 'virginica', 'setosa', 'setosa',\n",
       "       'setosa', 'virginica', 'versicolor', 'virginica', 'setosa',\n",
       "       'virginica', 'versicolor', 'versicolor', 'versicolor', 'setosa',\n",
       "       'versicolor', 'versicolor', 'setosa', 'setosa', 'setosa', 'setosa',\n",
       "       'virginica', 'setosa', 'setosa', 'virginica', 'versicolor',\n",
       "       'setosa', 'versicolor', 'versicolor', 'virginica', 'versicolor',\n",
       "       'virginica', 'versicolor', 'versicolor', 'setosa', 'setosa',\n",
       "       'setosa', 'setosa', 'virginica', 'versicolor', 'versicolor',\n",
       "       'versicolor', 'setosa', 'setosa', 'versicolor', 'virginica',\n",
       "       'virginica', 'versicolor', 'versicolor', 'virginica'], dtype=object)"
      ]
     },
     "execution_count": 5,
     "metadata": {},
     "output_type": "execute_result"
    }
   ],
   "source": [
    "#train 应用到决策树中\n",
    "clf.fit(X_train, y_train)\n",
    "#predict  预测结果\n",
    "y_pred = clf.predict(X_test)\n",
    "y_pred"
   ]
  },
  {
   "cell_type": "code",
   "execution_count": 6,
   "metadata": {},
   "outputs": [
    {
     "name": "stdout",
     "output_type": "stream",
     "text": [
      "precision=0.9810526315789474\n",
      "recall=   0.98\n",
      "f1=       0.9798998998998999\n"
     ]
    }
   ],
   "source": [
    "# score  https://zhuanlan.zhihu.com/p/37654241 \n",
    "# precision_score: 查准率，看的是我们所关注的类别正确分类的比率\n",
    "# recall_score: 召回率，即真实正例中最后预测为正例所占的比例\n",
    "# f1 score：为准确率和召回率的组合，常作为模型选择的指标\n",
    "print(\"precision={}\".format(metrics.precision_score(y_test, y_pred, average=\"weighted\")))\n",
    "print(\"recall=   {}\".format(metrics.recall_score(y_test, y_pred, average=\"weighted\")))\n",
    "print(\"f1=       {}\".format(metrics.f1_score(y_test, y_pred, average=\"weighted\")))\n"
   ]
  },
  {
   "cell_type": "markdown",
   "metadata": {},
   "source": [
    "## Cross Validation"
   ]
  },
  {
   "cell_type": "code",
   "execution_count": 7,
   "metadata": {},
   "outputs": [
    {
     "name": "stdout",
     "output_type": "stream",
     "text": [
      "TRAIN: [0 1 3 5 7] TEST: [ 2  4  6 10 13]\n",
      "precision=1.0\n",
      "recall=   1.0\n",
      "f1=       1.0\n",
      "\n",
      "TRAIN: [0 1 2 3 4] TEST: [11 18 21 22 25]\n",
      "precision=0.8781818181818183\n",
      "recall=   0.8666666666666667\n",
      "f1=       0.8672727272727273\n",
      "\n",
      "TRAIN: [2 3 4 6 7] TEST: [ 0  1  5 12 17]\n",
      "precision=0.9523809523809523\n",
      "recall=   0.9333333333333333\n",
      "f1=       0.9365079365079365\n",
      "\n",
      "TRAIN: [0 1 2 4 5] TEST: [ 3  7  8 14 20]\n",
      "precision=0.95\n",
      "recall=   0.9333333333333333\n",
      "f1=       0.9350649350649349\n",
      "\n",
      "TRAIN: [0 1 2 3 4] TEST: [ 9 15 19 23 26]\n",
      "precision=0.9700000000000001\n",
      "recall=   0.9666666666666667\n",
      "f1=       0.966750208855472\n",
      "\n"
     ]
    }
   ],
   "source": [
    "kf = model_selection.KFold(n_splits=5, shuffle=True)\n",
    "for train_index, test_index in kf.split(iris_df):\n",
    "    print(\"TRAIN:\", train_index[:5], \"TEST:\", test_index[:5])\n",
    "    X_train, X_test = X.iloc[train_index], X.iloc[test_index]\n",
    "    y_train, y_test = y.iloc[train_index], y.iloc[test_index]\n",
    "    clf.fit(X_train, y_train)\n",
    "    y_pred = clf.predict(X_test)\n",
    "    print(\"precision={}\".format(metrics.precision_score(y_test, y_pred, average=\"weighted\")))\n",
    "    print(\"recall=   {}\".format(metrics.recall_score(y_test, y_pred, average=\"weighted\")))\n",
    "    print(\"f1=       {}\".format(metrics.f1_score(y_test, y_pred, average=\"weighted\")))\n",
    "    \n",
    "    print()\n",
    "    "
   ]
  },
  {
   "cell_type": "markdown",
   "metadata": {},
   "source": [
    "[Scoring Parameter](https://scikit-learn.org/stable/modules/model_evaluation.html#scoring-parameter)"
   ]
  },
  {
   "cell_type": "code",
   "execution_count": 8,
   "metadata": {},
   "outputs": [
    {
     "data": {
      "text/plain": [
       "{'fit_time': array([0.0035162 , 0.00289297, 0.00248313, 0.00224376, 0.00220323]),\n",
       " 'score_time': array([0.00488663, 0.00595093, 0.00410891, 0.00372291, 0.00403881]),\n",
       " 'test_precision_weighted': array([0.96969697, 0.96969697, 0.9023569 , 1.        , 1.        ]),\n",
       " 'test_recall_weighted': array([0.96666667, 0.96666667, 0.9       , 1.        , 1.        ]),\n",
       " 'test_f1_weighted': array([0.96658312, 0.96658312, 0.89974937, 1.        , 1.        ])}"
      ]
     },
     "execution_count": 8,
     "metadata": {},
     "output_type": "execute_result"
    }
   ],
   "source": [
    "scores = model_selection.cross_validate(clf, X, y, cv=5, \n",
    "                                        scoring=[\"precision_weighted\", \"recall_weighted\", \"f1_weighted\"])\n",
    "scores"
   ]
  },
  {
   "cell_type": "code",
   "execution_count": 9,
   "metadata": {},
   "outputs": [
    {
     "data": {
      "text/plain": [
       "0.9683501683501683"
      ]
     },
     "execution_count": 9,
     "metadata": {},
     "output_type": "execute_result"
    }
   ],
   "source": [
    "np.mean(scores[\"test_precision_weighted\"]) #最后计算总的"
   ]
  }
 ],
 "metadata": {
  "kernelspec": {
   "display_name": "Python 3",
   "language": "python",
   "name": "python3"
  },
  "language_info": {
   "codemirror_mode": {
    "name": "ipython",
    "version": 3
   },
   "file_extension": ".py",
   "mimetype": "text/x-python",
   "name": "python",
   "nbconvert_exporter": "python",
   "pygments_lexer": "ipython3",
   "version": "3.8.8"
  }
 },
 "nbformat": 4,
 "nbformat_minor": 2
}

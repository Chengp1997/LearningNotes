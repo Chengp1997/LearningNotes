{
 "cells": [
  {
   "cell_type": "markdown",
   "id": "400ec54b",
   "metadata": {},
   "source": [
    "# Assignment 4\n",
    "## Import"
   ]
  },
  {
   "cell_type": "code",
   "execution_count": 1,
   "id": "ca73dcdc",
   "metadata": {},
   "outputs": [],
   "source": [
    "import pandas as pd\n",
    "import numpy as np\n",
    "from matplotlib import pyplot as plt\n",
    "\n",
    "from sklearn.neural_network import MLPClassifier\n",
    "from sklearn import preprocessing\n",
    "from sklearn import model_selection\n",
    "from sklearn import metrics\n",
    "import time"
   ]
  },
  {
   "cell_type": "markdown",
   "id": "591d1e10",
   "metadata": {},
   "source": [
    "## Load Data"
   ]
  },
  {
   "cell_type": "code",
   "execution_count": 2,
   "id": "9834ca27",
   "metadata": {},
   "outputs": [
    {
     "data": {
      "text/html": [
       "<div>\n",
       "<style scoped>\n",
       "    .dataframe tbody tr th:only-of-type {\n",
       "        vertical-align: middle;\n",
       "    }\n",
       "\n",
       "    .dataframe tbody tr th {\n",
       "        vertical-align: top;\n",
       "    }\n",
       "\n",
       "    .dataframe thead th {\n",
       "        text-align: right;\n",
       "    }\n",
       "</style>\n",
       "<table border=\"1\" class=\"dataframe\">\n",
       "  <thead>\n",
       "    <tr style=\"text-align: right;\">\n",
       "      <th></th>\n",
       "      <th>0</th>\n",
       "      <th>1</th>\n",
       "      <th>2</th>\n",
       "      <th>3</th>\n",
       "      <th>4</th>\n",
       "      <th>5</th>\n",
       "      <th>6</th>\n",
       "      <th>7</th>\n",
       "      <th>8</th>\n",
       "      <th>9</th>\n",
       "      <th>...</th>\n",
       "      <th>186</th>\n",
       "      <th>187</th>\n",
       "      <th>188</th>\n",
       "      <th>189</th>\n",
       "      <th>190</th>\n",
       "      <th>191</th>\n",
       "      <th>192</th>\n",
       "      <th>193</th>\n",
       "      <th>194</th>\n",
       "      <th>195</th>\n",
       "    </tr>\n",
       "  </thead>\n",
       "  <tbody>\n",
       "    <tr>\n",
       "      <th>count</th>\n",
       "      <td>6000.0</td>\n",
       "      <td>6000.0</td>\n",
       "      <td>6000.0</td>\n",
       "      <td>6000.000000</td>\n",
       "      <td>6000.000000</td>\n",
       "      <td>6000.000000</td>\n",
       "      <td>6000.000000</td>\n",
       "      <td>6000.000000</td>\n",
       "      <td>6000.000000</td>\n",
       "      <td>6000.000000</td>\n",
       "      <td>...</td>\n",
       "      <td>6000.000000</td>\n",
       "      <td>6000.000000</td>\n",
       "      <td>6000.000000</td>\n",
       "      <td>6000.000000</td>\n",
       "      <td>6000.000000</td>\n",
       "      <td>6000.000000</td>\n",
       "      <td>6000.000000</td>\n",
       "      <td>6000.000000</td>\n",
       "      <td>6000.0</td>\n",
       "      <td>6000.0</td>\n",
       "    </tr>\n",
       "    <tr>\n",
       "      <th>mean</th>\n",
       "      <td>0.0</td>\n",
       "      <td>0.0</td>\n",
       "      <td>0.0</td>\n",
       "      <td>0.003333</td>\n",
       "      <td>0.025833</td>\n",
       "      <td>0.044667</td>\n",
       "      <td>0.068167</td>\n",
       "      <td>0.085167</td>\n",
       "      <td>0.087167</td>\n",
       "      <td>0.040500</td>\n",
       "      <td>...</td>\n",
       "      <td>1.740500</td>\n",
       "      <td>3.094000</td>\n",
       "      <td>3.426333</td>\n",
       "      <td>2.628833</td>\n",
       "      <td>1.525500</td>\n",
       "      <td>0.688167</td>\n",
       "      <td>0.280167</td>\n",
       "      <td>0.030833</td>\n",
       "      <td>0.0</td>\n",
       "      <td>0.0</td>\n",
       "    </tr>\n",
       "    <tr>\n",
       "      <th>std</th>\n",
       "      <td>0.0</td>\n",
       "      <td>0.0</td>\n",
       "      <td>0.0</td>\n",
       "      <td>0.186176</td>\n",
       "      <td>1.242748</td>\n",
       "      <td>1.538311</td>\n",
       "      <td>2.331757</td>\n",
       "      <td>2.344887</td>\n",
       "      <td>2.420650</td>\n",
       "      <td>1.586699</td>\n",
       "      <td>...</td>\n",
       "      <td>12.976372</td>\n",
       "      <td>17.261909</td>\n",
       "      <td>17.341973</td>\n",
       "      <td>15.705344</td>\n",
       "      <td>11.835062</td>\n",
       "      <td>7.703970</td>\n",
       "      <td>4.633744</td>\n",
       "      <td>1.166523</td>\n",
       "      <td>0.0</td>\n",
       "      <td>0.0</td>\n",
       "    </tr>\n",
       "    <tr>\n",
       "      <th>min</th>\n",
       "      <td>0.0</td>\n",
       "      <td>0.0</td>\n",
       "      <td>0.0</td>\n",
       "      <td>0.000000</td>\n",
       "      <td>0.000000</td>\n",
       "      <td>0.000000</td>\n",
       "      <td>0.000000</td>\n",
       "      <td>0.000000</td>\n",
       "      <td>0.000000</td>\n",
       "      <td>0.000000</td>\n",
       "      <td>...</td>\n",
       "      <td>0.000000</td>\n",
       "      <td>0.000000</td>\n",
       "      <td>0.000000</td>\n",
       "      <td>0.000000</td>\n",
       "      <td>0.000000</td>\n",
       "      <td>0.000000</td>\n",
       "      <td>0.000000</td>\n",
       "      <td>0.000000</td>\n",
       "      <td>0.0</td>\n",
       "      <td>0.0</td>\n",
       "    </tr>\n",
       "    <tr>\n",
       "      <th>25%</th>\n",
       "      <td>0.0</td>\n",
       "      <td>0.0</td>\n",
       "      <td>0.0</td>\n",
       "      <td>0.000000</td>\n",
       "      <td>0.000000</td>\n",
       "      <td>0.000000</td>\n",
       "      <td>0.000000</td>\n",
       "      <td>0.000000</td>\n",
       "      <td>0.000000</td>\n",
       "      <td>0.000000</td>\n",
       "      <td>...</td>\n",
       "      <td>0.000000</td>\n",
       "      <td>0.000000</td>\n",
       "      <td>0.000000</td>\n",
       "      <td>0.000000</td>\n",
       "      <td>0.000000</td>\n",
       "      <td>0.000000</td>\n",
       "      <td>0.000000</td>\n",
       "      <td>0.000000</td>\n",
       "      <td>0.0</td>\n",
       "      <td>0.0</td>\n",
       "    </tr>\n",
       "    <tr>\n",
       "      <th>50%</th>\n",
       "      <td>0.0</td>\n",
       "      <td>0.0</td>\n",
       "      <td>0.0</td>\n",
       "      <td>0.000000</td>\n",
       "      <td>0.000000</td>\n",
       "      <td>0.000000</td>\n",
       "      <td>0.000000</td>\n",
       "      <td>0.000000</td>\n",
       "      <td>0.000000</td>\n",
       "      <td>0.000000</td>\n",
       "      <td>...</td>\n",
       "      <td>0.000000</td>\n",
       "      <td>0.000000</td>\n",
       "      <td>0.000000</td>\n",
       "      <td>0.000000</td>\n",
       "      <td>0.000000</td>\n",
       "      <td>0.000000</td>\n",
       "      <td>0.000000</td>\n",
       "      <td>0.000000</td>\n",
       "      <td>0.0</td>\n",
       "      <td>0.0</td>\n",
       "    </tr>\n",
       "    <tr>\n",
       "      <th>75%</th>\n",
       "      <td>0.0</td>\n",
       "      <td>0.0</td>\n",
       "      <td>0.0</td>\n",
       "      <td>0.000000</td>\n",
       "      <td>0.000000</td>\n",
       "      <td>0.000000</td>\n",
       "      <td>0.000000</td>\n",
       "      <td>0.000000</td>\n",
       "      <td>0.000000</td>\n",
       "      <td>0.000000</td>\n",
       "      <td>...</td>\n",
       "      <td>0.000000</td>\n",
       "      <td>0.000000</td>\n",
       "      <td>0.000000</td>\n",
       "      <td>0.000000</td>\n",
       "      <td>0.000000</td>\n",
       "      <td>0.000000</td>\n",
       "      <td>0.000000</td>\n",
       "      <td>0.000000</td>\n",
       "      <td>0.0</td>\n",
       "      <td>0.0</td>\n",
       "    </tr>\n",
       "    <tr>\n",
       "      <th>max</th>\n",
       "      <td>0.0</td>\n",
       "      <td>0.0</td>\n",
       "      <td>0.0</td>\n",
       "      <td>12.000000</td>\n",
       "      <td>78.000000</td>\n",
       "      <td>77.000000</td>\n",
       "      <td>103.000000</td>\n",
       "      <td>93.000000</td>\n",
       "      <td>102.000000</td>\n",
       "      <td>76.000000</td>\n",
       "      <td>...</td>\n",
       "      <td>238.000000</td>\n",
       "      <td>240.000000</td>\n",
       "      <td>232.000000</td>\n",
       "      <td>252.000000</td>\n",
       "      <td>223.000000</td>\n",
       "      <td>225.000000</td>\n",
       "      <td>126.000000</td>\n",
       "      <td>69.000000</td>\n",
       "      <td>0.0</td>\n",
       "      <td>0.0</td>\n",
       "    </tr>\n",
       "  </tbody>\n",
       "</table>\n",
       "<p>8 rows × 196 columns</p>\n",
       "</div>"
      ],
      "text/plain": [
       "          0       1       2            3            4            5    \\\n",
       "count  6000.0  6000.0  6000.0  6000.000000  6000.000000  6000.000000   \n",
       "mean      0.0     0.0     0.0     0.003333     0.025833     0.044667   \n",
       "std       0.0     0.0     0.0     0.186176     1.242748     1.538311   \n",
       "min       0.0     0.0     0.0     0.000000     0.000000     0.000000   \n",
       "25%       0.0     0.0     0.0     0.000000     0.000000     0.000000   \n",
       "50%       0.0     0.0     0.0     0.000000     0.000000     0.000000   \n",
       "75%       0.0     0.0     0.0     0.000000     0.000000     0.000000   \n",
       "max       0.0     0.0     0.0    12.000000    78.000000    77.000000   \n",
       "\n",
       "               6            7            8            9    ...          186  \\\n",
       "count  6000.000000  6000.000000  6000.000000  6000.000000  ...  6000.000000   \n",
       "mean      0.068167     0.085167     0.087167     0.040500  ...     1.740500   \n",
       "std       2.331757     2.344887     2.420650     1.586699  ...    12.976372   \n",
       "min       0.000000     0.000000     0.000000     0.000000  ...     0.000000   \n",
       "25%       0.000000     0.000000     0.000000     0.000000  ...     0.000000   \n",
       "50%       0.000000     0.000000     0.000000     0.000000  ...     0.000000   \n",
       "75%       0.000000     0.000000     0.000000     0.000000  ...     0.000000   \n",
       "max     103.000000    93.000000   102.000000    76.000000  ...   238.000000   \n",
       "\n",
       "               187          188          189          190          191  \\\n",
       "count  6000.000000  6000.000000  6000.000000  6000.000000  6000.000000   \n",
       "mean      3.094000     3.426333     2.628833     1.525500     0.688167   \n",
       "std      17.261909    17.341973    15.705344    11.835062     7.703970   \n",
       "min       0.000000     0.000000     0.000000     0.000000     0.000000   \n",
       "25%       0.000000     0.000000     0.000000     0.000000     0.000000   \n",
       "50%       0.000000     0.000000     0.000000     0.000000     0.000000   \n",
       "75%       0.000000     0.000000     0.000000     0.000000     0.000000   \n",
       "max     240.000000   232.000000   252.000000   223.000000   225.000000   \n",
       "\n",
       "               192          193     194     195  \n",
       "count  6000.000000  6000.000000  6000.0  6000.0  \n",
       "mean      0.280167     0.030833     0.0     0.0  \n",
       "std       4.633744     1.166523     0.0     0.0  \n",
       "min       0.000000     0.000000     0.0     0.0  \n",
       "25%       0.000000     0.000000     0.0     0.0  \n",
       "50%       0.000000     0.000000     0.0     0.0  \n",
       "75%       0.000000     0.000000     0.0     0.0  \n",
       "max     126.000000    69.000000     0.0     0.0  \n",
       "\n",
       "[8 rows x 196 columns]"
      ]
     },
     "execution_count": 2,
     "metadata": {},
     "output_type": "execute_result"
    }
   ],
   "source": [
    "data=pd.read_csv(\"digits.csv\")\n",
    "# data\n",
    "\n",
    "X=data.values[:,1:]\n",
    "y=data.values[:,0]\n",
    "\n",
    "pd.DataFrame(X).describe()"
   ]
  },
  {
   "cell_type": "code",
   "execution_count": 3,
   "id": "48c2310d",
   "metadata": {},
   "outputs": [
    {
     "data": {
      "image/png": "[encoded data removed]",
      "text/plain": [
       "<Figure size 1152x576 with 10 Axes>"
      ]
     },
     "metadata": {
      "needs_background": "light"
     },
     "output_type": "display_data"
    }
   ],
   "source": [
    "fig = plt.figure(figsize=(16,8))\n",
    "for i in range(10):\n",
    "    for j in range(y.shape[0]):\n",
    "        if y[j] == i:\n",
    "            ax = fig.add_subplot(2, 5, i+1)\n",
    "            ax.imshow(X[i].reshape(14,14), cmap=plt.cm.gray_r)\n",
    "            break\n"
   ]
  },
  {
   "cell_type": "markdown",
   "id": "7bb012b0",
   "metadata": {},
   "source": [
    "## Process\n",
    "### initialize Classifier"
   ]
  },
  {
   "cell_type": "code",
   "execution_count": 4,
   "id": "407b76da",
   "metadata": {},
   "outputs": [],
   "source": [
    "layer_sizes_2layers_20Nodes=(20,20)\n",
    "layer_sizes_2layers_100Nodes=(100,100)\n",
    "layer_sizes_5layers_20Nodes=(20,20,20,20,20)\n",
    "layer_sizes_5layers_100Nodes=(100,100,100,100,100)\n",
    "\n",
    "activation_relu='relu'\n",
    "activation_tanh='tanh'"
   ]
  },
  {
   "cell_type": "markdown",
   "id": "3518e762",
   "metadata": {},
   "source": [
    "### train and evaluate"
   ]
  },
  {
   "cell_type": "code",
   "execution_count": 5,
   "id": "296aaf82",
   "metadata": {},
   "outputs": [],
   "source": [
    "def train_and_evaluate(layer_sizes,activation_func,X,y):\n",
    "    kfold = model_selection.KFold(5, shuffle=True, random_state=2)\n",
    "    prec, rec, f1 = [], [], []\n",
    "\n",
    "    for train_idx, test_idx in kfold.split(X):\n",
    "        X_train, X_test = X[train_idx], X[test_idx]\n",
    "        y_train, y_test = y[train_idx], y[test_idx]\n",
    "\n",
    "        mlp_clf = MLPClassifier(hidden_layer_sizes=layer_sizes, max_iter=1000,solver='lbfgs',activation=activation_func)\n",
    "        X_scaler = preprocessing.MinMaxScaler()\n",
    "\n",
    "        X_train = X_scaler.fit_transform(X_train)    \n",
    "\n",
    "        mlp_clf.fit(X_train, y_train)\n",
    "\n",
    "        X_test = X_scaler.transform(X_test)\n",
    "        y_pred = mlp_clf.predict(X_test)\n",
    "\n",
    "#         print(y_pred)\n",
    "#         print(y_test)\n",
    "\n",
    "        rec += [metrics.recall_score(y_pred, y_test, average=\"weighted\")]\n",
    "        prec += [metrics.precision_score(y_pred, y_test, average=\"weighted\")]\n",
    "        f1 += [metrics.f1_score(y_pred, y_test, average=\"weighted\")]\n",
    "\n",
    "#         print()\n",
    "\n",
    "    print(\"recall    = {:.4f} ±{:.4f}\".format(np.mean(rec), np.std(rec)))\n",
    "    print(\"precision = {:.4f} ±{:.4f}\".format(np.mean(prec), np.std(prec)))\n",
    "    print(\"f1        = {:.4f} ±{:.4f}\".format(np.mean(f1), np.std(f1)))\n",
    "    print()"
   ]
  },
  {
   "cell_type": "code",
   "execution_count": 6,
   "id": "fe4a791f",
   "metadata": {},
   "outputs": [
    {
     "name": "stdout",
     "output_type": "stream",
     "text": [
      "MLP: 2 layers each have 20 Nodes\n",
      "Activation Function: relu\n",
      "recall    = 0.9218 ±0.0124\n",
      "precision = 0.9230 ±0.0121\n",
      "f1        = 0.9219 ±0.0124\n",
      "\n",
      "MLP: 2 layers each have 20 Nodes\n",
      "Activation Function: tanh\n",
      "recall    = 0.9077 ±0.0079\n",
      "precision = 0.9088 ±0.0079\n",
      "f1        = 0.9077 ±0.0079\n",
      "\n",
      "MLP: 2 layers each have 100 Nodes\n",
      "Activation Function: relu\n",
      "recall    = 0.9398 ±0.0089\n",
      "precision = 0.9406 ±0.0087\n",
      "f1        = 0.9399 ±0.0089\n",
      "\n",
      "MLP: 2 layers each have 100 Nodes\n",
      "Activation Function: tanh\n",
      "recall    = 0.9358 ±0.0100\n",
      "precision = 0.9365 ±0.0100\n",
      "f1        = 0.9359 ±0.0100\n",
      "\n",
      "MLP: 5 layers each have 20 Nodes\n",
      "Activation Function: relu\n",
      "recall    = 0.9052 ±0.0096\n",
      "precision = 0.9058 ±0.0097\n",
      "f1        = 0.9050 ±0.0096\n",
      "\n",
      "MLP: 5 layers each have 20 Nodes\n",
      "Activation Function: tanh\n",
      "recall    = 0.9162 ±0.0088\n",
      "precision = 0.9170 ±0.0091\n",
      "f1        = 0.9162 ±0.0090\n",
      "\n",
      "MLP: 5 layers each have 100 Nodes\n",
      "Activation Function: relu\n",
      "recall    = 0.9320 ±0.0056\n",
      "precision = 0.9330 ±0.0051\n",
      "f1        = 0.9320 ±0.0056\n",
      "\n",
      "MLP: 5 layers each have 100 Nodes\n",
      "Activation Function: tanh\n",
      "recall    = 0.9365 ±0.0101\n",
      "precision = 0.9374 ±0.0100\n",
      "f1        = 0.9366 ±0.0101\n",
      "\n"
     ]
    }
   ],
   "source": [
    "print(\"MLP: 2 layers each have 20 Nodes\")\n",
    "print(\"Activation Function: relu\")\n",
    "train_and_evaluate(layer_sizes_2layers_20Nodes,activation_relu,X,y)\n",
    "print(\"MLP: 2 layers each have 20 Nodes\")\n",
    "print(\"Activation Function: tanh\")\n",
    "train_and_evaluate(layer_sizes_2layers_20Nodes,activation_tanh,X,y)\n",
    "print(\"MLP: 2 layers each have 100 Nodes\")\n",
    "print(\"Activation Function: relu\")\n",
    "train_and_evaluate(layer_sizes_2layers_100Nodes,activation_relu,X,y)\n",
    "print(\"MLP: 2 layers each have 100 Nodes\")\n",
    "print(\"Activation Function: tanh\")\n",
    "train_and_evaluate(layer_sizes_2layers_100Nodes,activation_tanh,X,y)\n",
    "print(\"MLP: 5 layers each have 20 Nodes\")\n",
    "print(\"Activation Function: relu\")\n",
    "train_and_evaluate(layer_sizes_5layers_20Nodes,activation_relu,X,y)\n",
    "print(\"MLP: 5 layers each have 20 Nodes\")\n",
    "print(\"Activation Function: tanh\")\n",
    "train_and_evaluate(layer_sizes_5layers_20Nodes,activation_tanh,X,y)\n",
    "print(\"MLP: 5 layers each have 100 Nodes\")\n",
    "print(\"Activation Function: relu\")\n",
    "train_and_evaluate(layer_sizes_5layers_100Nodes,activation_relu,X,y)\n",
    "print(\"MLP: 5 layers each have 100 Nodes\")\n",
    "print(\"Activation Function: tanh\")\n",
    "train_and_evaluate(layer_sizes_5layers_100Nodes,activation_tanh,X,y)"
   ]
  },
  {
   "cell_type": "markdown",
   "id": "5b9c0e3a",
   "metadata": {},
   "source": [
    "## Observing time difference\n"
   ]
  },
  {
   "cell_type": "code",
   "execution_count": 7,
   "id": "4cd11b26",
   "metadata": {},
   "outputs": [],
   "source": [
    "def calculateTime(mlp_all,X,y,time_different):\n",
    "    for mlp_clf in mlp_all:\n",
    "        kfold = model_selection.KFold(5, shuffle=True, random_state=2)\n",
    "\n",
    "#         X_scaler = preprocessing.MinMaxScaler()\n",
    "#         X= X_scaler.fit_transform(X)  \n",
    "        #calculate time\n",
    "#         start = time.time()\n",
    "#         mlp_clf.fit(X, y)\n",
    "#         time_spent = time.time() - start\n",
    "\n",
    "        time_spent=0\n",
    "        for train_idx, test_idx in kfold.split(X):\n",
    "            X_train, X_test = X[train_idx], X[test_idx]\n",
    "            y_train, y_test = y[train_idx], y[test_idx]\n",
    "\n",
    "            X_scaler = preprocessing.MinMaxScaler()\n",
    "\n",
    "            X_train = X_scaler.fit_transform(X_train)    \n",
    "\n",
    "            start=time.time()\n",
    "            mlp_clf.fit(X_train, y_train)\n",
    "            time_spent += (time.time() - start)\n",
    "\n",
    "            X_test = X_scaler.transform(X_test)\n",
    "            y_pred = mlp_clf.predict(X_test)\n",
    "            \n",
    "        time_different.append(np.mean(time_spent))\n",
    "    \n",
    "    return time_different"
   ]
  },
  {
   "cell_type": "markdown",
   "id": "d82750b9",
   "metadata": {},
   "source": [
    "### (1) 2 Layers with 20,40,60,80,100 nodes"
   ]
  },
  {
   "cell_type": "code",
   "execution_count": 8,
   "id": "8a3d8a40",
   "metadata": {},
   "outputs": [],
   "source": [
    "mlp_clf_2L20N = MLPClassifier(hidden_layer_sizes=(20,20), max_iter=1000,solver='lbfgs',activation='relu')\n",
    "mlp_clf_2L40N = MLPClassifier(hidden_layer_sizes=(40,40), max_iter=1000,solver='lbfgs',activation='relu')\n",
    "mlp_clf_2L60N = MLPClassifier(hidden_layer_sizes=(60,60), max_iter=1000,solver='lbfgs',activation='relu')\n",
    "mlp_clf_2L80N = MLPClassifier(hidden_layer_sizes=(80,80), max_iter=1000,solver='lbfgs',activation='relu')\n",
    "mlp_clf_2L100N = MLPClassifier(hidden_layer_sizes=(100,100), max_iter=1000,solver='lbfgs',activation='relu')"
   ]
  },
  {
   "cell_type": "code",
   "execution_count": 9,
   "id": "23455705",
   "metadata": {},
   "outputs": [
    {
     "name": "stdout",
     "output_type": "stream",
     "text": [
      "[4.550324201583862, 5.369691610336304, 6.335962533950806, 7.923220157623291, 10.950170040130615]\n"
     ]
    },
    {
     "data": {
      "text/plain": [
       "Text(0, 0.5, 'time spent for 5 folds')"
      ]
     },
     "execution_count": 9,
     "metadata": {},
     "output_type": "execute_result"
    },
    {
     "data": {
      "image/png": "[encoded data removed]",
      "text/plain": [
       "<Figure size 432x288 with 1 Axes>"
      ]
     },
     "metadata": {
      "needs_background": "light"
     },
     "output_type": "display_data"
    }
   ],
   "source": [
    "mlp_different_Nodes=[mlp_clf_2L20N,mlp_clf_2L40N,mlp_clf_2L60N,mlp_clf_2L80N,mlp_clf_2L100N]\n",
    "time_different_Nodes=[]\n",
    "time_different_Nodes=calculateTime(mlp_different_Nodes,X,y,time_different_Nodes)\n",
    "\n",
    "print(time_different_Nodes)\n",
    "\n",
    "nodes=[20,40,60,80,100]\n",
    "f = plt.figure()\n",
    "plt.title(\"Time spent for 2 Layers with different Nodes\")\n",
    "plt.plot(nodes, time_different_Nodes)\n",
    "plt.xlabel('nodes in each layer')\n",
    "plt.ylabel('time spent for 5 folds')"
   ]
  },
  {
   "cell_type": "markdown",
   "id": "378233f5",
   "metadata": {},
   "source": [
    "### (2) 1,2,3,4,5 Layers with 20 nodes"
   ]
  },
  {
   "cell_type": "code",
   "execution_count": 10,
   "id": "fed932b8",
   "metadata": {},
   "outputs": [],
   "source": [
    "mlp_clf_1L = MLPClassifier(hidden_layer_sizes=(20), max_iter=1000,solver='lbfgs',activation='relu')\n",
    "mlp_clf_2L = MLPClassifier(hidden_layer_sizes=(20,20), max_iter=1000,solver='lbfgs',activation='relu')\n",
    "mlp_clf_3L = MLPClassifier(hidden_layer_sizes=(20,20,20), max_iter=1000,solver='lbfgs',activation='relu')\n",
    "mlp_clf_4L = MLPClassifier(hidden_layer_sizes=(20,20,20,20), max_iter=1000,solver='lbfgs',activation='relu')\n",
    "mlp_clf_5L = MLPClassifier(hidden_layer_sizes=(20,20,20,20,20), max_iter=1000,solver='lbfgs',activation='relu')"
   ]
  },
  {
   "cell_type": "code",
   "execution_count": 11,
   "id": "7bfac4b7",
   "metadata": {},
   "outputs": [
    {
     "name": "stdout",
     "output_type": "stream",
     "text": [
      "[3.8053126335144043, 4.535003185272217, 6.4676432609558105, 9.991966962814331, 12.62464690208435]\n"
     ]
    },
    {
     "data": {
      "text/plain": [
       "Text(0, 0.5, 'time spent for 5 folds')"
      ]
     },
     "execution_count": 11,
     "metadata": {},
     "output_type": "execute_result"
    },
    {
     "data": {
      "image/png": "[encoded data removed]",
      "text/plain": [
       "<Figure size 432x288 with 1 Axes>"
      ]
     },
     "metadata": {
      "needs_background": "light"
     },
     "output_type": "display_data"
    }
   ],
   "source": [
    "mlp_different_Layers=[mlp_clf_1L,mlp_clf_2L,mlp_clf_3L,mlp_clf_4L,mlp_clf_5L]\n",
    "time_different_Layers=[]\n",
    "time_different_Layers=calculateTime(mlp_different_Layers,X,y,time_different_Layers)\n",
    "\n",
    "print(time_different_Layers)\n",
    "\n",
    "layers=[1,2,3,4,5]\n",
    "f = plt.figure()\n",
    "plt.title(\"Time spent for 20 nodes with different Layers\")\n",
    "plt.plot(layers, time_different_Layers)\n",
    "plt.xlabel('layers with 20 nodes')\n",
    "plt.ylabel('time spent for 5 folds')"
   ]
  },
  {
   "cell_type": "code",
   "execution_count": null,
   "id": "007fa0d2",
   "metadata": {},
   "outputs": [],
   "source": []
  }
 ],
 "metadata": {
  "kernelspec": {
   "display_name": "Python 3",
   "language": "python",
   "name": "python3"
  },
  "language_info": {
   "codemirror_mode": {
    "name": "ipython",
    "version": 3
   },
   "file_extension": ".py",
   "mimetype": "text/x-python",
   "name": "python",
   "nbconvert_exporter": "python",
   "pygments_lexer": "ipython3",
   "version": "3.8.8"
  }
 },
 "nbformat": 4,
 "nbformat_minor": 5
}
